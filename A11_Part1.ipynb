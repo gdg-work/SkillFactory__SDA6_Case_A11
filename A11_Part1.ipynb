{
 "cells": [
  {
   "cell_type": "markdown",
   "metadata": {},
   "source": [
    "# Кейс А11"
   ]
  },
  {
   "cell_type": "markdown",
   "metadata": {},
   "source": [
    "## А11.2.2 Обработка данных"
   ]
  },
  {
   "cell_type": "markdown",
   "metadata": {},
   "source": [
    "Импортируем нужные библиотеки"
   ]
  },
  {
   "cell_type": "code",
   "execution_count": 1,
   "metadata": {},
   "outputs": [],
   "source": [
    "import pandas as pd"
   ]
  },
  {
   "cell_type": "markdown",
   "metadata": {},
   "source": [
    "Определяю константы, которые мне понадобятся."
   ]
  },
  {
   "cell_type": "code",
   "execution_count": 2,
   "metadata": {},
   "outputs": [],
   "source": [
    "TESTS_FILE='Data1/ab_test_groups.csv.bz2'\n",
    "PAYMENTS_FILE='Data1/payments.csv.bz2'\n",
    "TEST_ID=127\n",
    "START_DATE='2019-08-05'\n",
    "END_DATE='2019-08-12'  # This day will not be included"
   ]
  },
  {
   "cell_type": "markdown",
   "metadata": {},
   "source": [
    "Первый файл — разбивка пользователей по тестам и группам, из него нам интересен только тест 127.  Сразу проверю, что группы пользователей A и B не пересекаются."
   ]
  },
  {
   "cell_type": "code",
   "execution_count": 3,
   "metadata": {},
   "outputs": [
    {
     "name": "stdout",
     "output_type": "stream",
     "text": [
      "set()\n"
     ]
    }
   ],
   "source": [
    "test_uids_df = pd.read_csv(TESTS_FILE)\n",
    "test_uids_df = test_uids_df[test_uids_df.ab_test_id==127].reset_index()\n",
    "group_a_st = set(test_uids_df.loc[test_uids_df.grp == 'A', 'user_id'])\n",
    "group_b_st = set(test_uids_df.loc[test_uids_df.grp == 'B', 'user_id'])\n",
    "print(group_a_st.intersection(group_b_st))"
   ]
  },
  {
   "cell_type": "markdown",
   "metadata": {},
   "source": [
    "Множества не пересекаются, отлично. Смотрим, как распределены пользователи по группам"
   ]
  },
  {
   "cell_type": "code",
   "execution_count": 4,
   "metadata": {},
   "outputs": [
    {
     "name": "stdout",
     "output_type": "stream",
     "text": [
      "В группе A 76605 пользователей, в группе B 76627.\n"
     ]
    }
   ],
   "source": [
    "print(\"В группе A {} пользователей, в группе B {}.\".format(len(group_a_st), len(group_b_st)))"
   ]
  },
  {
   "cell_type": "markdown",
   "metadata": {},
   "source": [
    "Соотношение 50/50, количество пользователей в группах достаточно приличное, чтобы считать статистику. \n",
    "\n",
    "Загружаем таблицу платежей, вырезаем интересующий нас временной диапазон."
   ]
  },
  {
   "cell_type": "code",
   "execution_count": 5,
   "metadata": {},
   "outputs": [],
   "source": [
    "payments_df = pd.read_csv(PAYMENTS_FILE)\n",
    "payments_df = payments_df.loc[payments_df.created_at.between(START_DATE, END_DATE, inclusive=False)]"
   ]
  },
  {
   "cell_type": "markdown",
   "metadata": {},
   "source": [
    "Готовим набор данных для обработки тестирования, вырезаем только колонки `user_id` и `price`.  Проверяем, что пользователи встречаются в таблице не более одного раза (то есть совершают в исследуемый интервал только одну покупку)"
   ]
  },
  {
   "cell_type": "code",
   "execution_count": 6,
   "metadata": {},
   "outputs": [],
   "source": [
    "abtest_df = payments_df.loc[:,('user_id', 'price')]\n",
    "assert(len(abtest_df) == len(abtest_df.user_id.unique()))"
   ]
  },
  {
   "cell_type": "markdown",
   "metadata": {},
   "source": [
    "Соединяем таблицы групп пользователей и покупок, избавляемся от лишних полей, считаем интересные нам показатели:"
   ]
  },
  {
   "cell_type": "code",
   "execution_count": 7,
   "metadata": {},
   "outputs": [
    {
     "name": "stdout",
     "output_type": "stream",
     "text": [
      "Количество покупателей в контрольной (А) и экспериментальной (B) группах:\n"
     ]
    },
    {
     "data": {
      "text/html": [
       "<div>\n",
       "<style scoped>\n",
       "    .dataframe tbody tr th:only-of-type {\n",
       "        vertical-align: middle;\n",
       "    }\n",
       "\n",
       "    .dataframe tbody tr th {\n",
       "        vertical-align: top;\n",
       "    }\n",
       "\n",
       "    .dataframe thead th {\n",
       "        text-align: right;\n",
       "    }\n",
       "</style>\n",
       "<table border=\"1\" class=\"dataframe\">\n",
       "  <thead>\n",
       "    <tr style=\"text-align: right;\">\n",
       "      <th></th>\n",
       "      <th>grp</th>\n",
       "      <th>buyers</th>\n",
       "    </tr>\n",
       "  </thead>\n",
       "  <tbody>\n",
       "    <tr>\n",
       "      <th>0</th>\n",
       "      <td>A</td>\n",
       "      <td>4279</td>\n",
       "    </tr>\n",
       "    <tr>\n",
       "      <th>1</th>\n",
       "      <td>B</td>\n",
       "      <td>9427</td>\n",
       "    </tr>\n",
       "  </tbody>\n",
       "</table>\n",
       "</div>"
      ],
      "text/plain": [
       "  grp  buyers\n",
       "0   A    4279\n",
       "1   B    9427"
      ]
     },
     "metadata": {},
     "output_type": "display_data"
    }
   ],
   "source": [
    "abtest_df = payments_df.loc[:,('user_id', 'price')]\n",
    "abtest_df = test_uids_df.merge(abtest_df, on='user_id', how='left')\n",
    "abtest_df = abtest_df.loc[:,['user_id','grp','price']]\n",
    "abtest_df = abtest_df.set_index('user_id')\n",
    "print(\"Количество покупателей в контрольной (А) и экспериментальной (B) группах:\")\n",
    "purch_cnt = (abtest_df.groupby('grp', as_index = False)['price'].count()\n",
    "            ).rename({'price':'buyers'}, axis=1)\n",
    "display(purch_cnt)"
   ]
  },
  {
   "cell_type": "markdown",
   "metadata": {},
   "source": [
    "Разница больше чем вдвое. Для расчёта конверсии и показа разбиения на группы нам понадобится исходное количество\n",
    "пользователей в каждой группе.  Расчитаем доли пользователей по группам, доли покупателей по группам и конверсии."
   ]
  },
  {
   "cell_type": "code",
   "execution_count": 8,
   "metadata": {},
   "outputs": [
    {
     "data": {
      "text/html": [
       "<div>\n",
       "<style scoped>\n",
       "    .dataframe tbody tr th:only-of-type {\n",
       "        vertical-align: middle;\n",
       "    }\n",
       "\n",
       "    .dataframe tbody tr th {\n",
       "        vertical-align: top;\n",
       "    }\n",
       "\n",
       "    .dataframe thead th {\n",
       "        text-align: right;\n",
       "    }\n",
       "</style>\n",
       "<table border=\"1\" class=\"dataframe\">\n",
       "  <thead>\n",
       "    <tr style=\"text-align: right;\">\n",
       "      <th></th>\n",
       "      <th>users_count</th>\n",
       "      <th>buyers</th>\n",
       "      <th>users_share</th>\n",
       "      <th>buyers_share</th>\n",
       "      <th>conversion</th>\n",
       "    </tr>\n",
       "    <tr>\n",
       "      <th>grp</th>\n",
       "      <th></th>\n",
       "      <th></th>\n",
       "      <th></th>\n",
       "      <th></th>\n",
       "      <th></th>\n",
       "    </tr>\n",
       "  </thead>\n",
       "  <tbody>\n",
       "    <tr>\n",
       "      <th>A</th>\n",
       "      <td>76605</td>\n",
       "      <td>4279</td>\n",
       "      <td>0.499928</td>\n",
       "      <td>0.312199</td>\n",
       "      <td>0.055858</td>\n",
       "    </tr>\n",
       "    <tr>\n",
       "      <th>B</th>\n",
       "      <td>76627</td>\n",
       "      <td>9427</td>\n",
       "      <td>0.500072</td>\n",
       "      <td>0.687801</td>\n",
       "      <td>0.123025</td>\n",
       "    </tr>\n",
       "  </tbody>\n",
       "</table>\n",
       "</div>"
      ],
      "text/plain": [
       "     users_count  buyers  users_share  buyers_share  conversion\n",
       "grp                                                            \n",
       "A          76605    4279     0.499928      0.312199    0.055858\n",
       "B          76627    9427     0.500072      0.687801    0.123025"
      ]
     },
     "metadata": {},
     "output_type": "display_data"
    }
   ],
   "source": [
    "users_and_buyers = abtest_df.reset_index().groupby('grp').count().rename(\n",
    "    {'user_id': 'users_count', 'price': 'buyers'},axis=1)\n",
    "users_and_buyers['users_share'] = users_and_buyers['users_count']/sum(users_and_buyers['users_count'])\n",
    "users_and_buyers['buyers_share'] = users_and_buyers['buyers'] / sum(users_and_buyers['buyers'])\n",
    "users_and_buyers['conversion'] = users_and_buyers['buyers'] / users_and_buyers['users_count']\n",
    "display(users_and_buyers)"
   ]
  },
  {
   "cell_type": "markdown",
   "metadata": {},
   "source": [
    "Разделение на группы (A/B) показано в колонке users_share, оно до 3 знака после запятой соответствует разделению 50/50.  При этом конверсия в группе A около 6%, а в группе B более 12%, то есть она выросла больше, чем вдвое.\n",
    "Аналогично видно, что более 2/3 покупателей пришли из группы B.\n",
    "\n",
    "Посмотрим, что при этом происходит со средним чеком."
   ]
  },
  {
   "cell_type": "code",
   "execution_count": 9,
   "metadata": {},
   "outputs": [
    {
     "data": {
      "text/html": [
       "<div>\n",
       "<style scoped>\n",
       "    .dataframe tbody tr th:only-of-type {\n",
       "        vertical-align: middle;\n",
       "    }\n",
       "\n",
       "    .dataframe tbody tr th {\n",
       "        vertical-align: top;\n",
       "    }\n",
       "\n",
       "    .dataframe thead th {\n",
       "        text-align: right;\n",
       "    }\n",
       "</style>\n",
       "<table border=\"1\" class=\"dataframe\">\n",
       "  <thead>\n",
       "    <tr style=\"text-align: right;\">\n",
       "      <th></th>\n",
       "      <th>grp</th>\n",
       "      <th>price</th>\n",
       "    </tr>\n",
       "    <tr>\n",
       "      <th>user_id</th>\n",
       "      <th></th>\n",
       "      <th></th>\n",
       "    </tr>\n",
       "  </thead>\n",
       "  <tbody>\n",
       "    <tr>\n",
       "      <th>1</th>\n",
       "      <td>B</td>\n",
       "      <td>140.0</td>\n",
       "    </tr>\n",
       "    <tr>\n",
       "      <th>10</th>\n",
       "      <td>B</td>\n",
       "      <td>140.0</td>\n",
       "    </tr>\n",
       "    <tr>\n",
       "      <th>23</th>\n",
       "      <td>B</td>\n",
       "      <td>140.0</td>\n",
       "    </tr>\n",
       "    <tr>\n",
       "      <th>24</th>\n",
       "      <td>B</td>\n",
       "      <td>700.0</td>\n",
       "    </tr>\n",
       "    <tr>\n",
       "      <th>39</th>\n",
       "      <td>B</td>\n",
       "      <td>140.0</td>\n",
       "    </tr>\n",
       "  </tbody>\n",
       "</table>\n",
       "</div>"
      ],
      "text/plain": [
       "        grp  price\n",
       "user_id           \n",
       "1         B  140.0\n",
       "10        B  140.0\n",
       "23        B  140.0\n",
       "24        B  700.0\n",
       "39        B  140.0"
      ]
     },
     "execution_count": 9,
     "metadata": {},
     "output_type": "execute_result"
    }
   ],
   "source": [
    "buyers_only_abtest = abtest_df[abtest_df.price.notnull()]\n",
    "buyers_only_abtest.head()"
   ]
  },
  {
   "cell_type": "markdown",
   "metadata": {},
   "source": [
    "В датафрейме `buyers_only_abtest` содержатся только покупатели, колонки: `user_id`, `grp` и цена. Для расчёта среднего чека по группам достаточно сгруппировать датафрейм по полю `grp` и осреднить цену."
   ]
  },
  {
   "cell_type": "code",
   "execution_count": 34,
   "metadata": {},
   "outputs": [
    {
     "data": {
      "text/html": [
       "<div>\n",
       "<style scoped>\n",
       "    .dataframe tbody tr th:only-of-type {\n",
       "        vertical-align: middle;\n",
       "    }\n",
       "\n",
       "    .dataframe tbody tr th {\n",
       "        vertical-align: top;\n",
       "    }\n",
       "\n",
       "    .dataframe thead th {\n",
       "        text-align: right;\n",
       "    }\n",
       "</style>\n",
       "<table border=\"1\" class=\"dataframe\">\n",
       "  <thead>\n",
       "    <tr style=\"text-align: right;\">\n",
       "      <th></th>\n",
       "      <th>grp</th>\n",
       "      <th>avg_cheque</th>\n",
       "    </tr>\n",
       "  </thead>\n",
       "  <tbody>\n",
       "    <tr>\n",
       "      <th>0</th>\n",
       "      <td>A</td>\n",
       "      <td>396.120589</td>\n",
       "    </tr>\n",
       "    <tr>\n",
       "      <th>1</th>\n",
       "      <td>B</td>\n",
       "      <td>348.804498</td>\n",
       "    </tr>\n",
       "  </tbody>\n",
       "</table>\n",
       "</div>"
      ],
      "text/plain": [
       "  grp  avg_cheque\n",
       "0   A  396.120589\n",
       "1   B  348.804498"
      ]
     },
     "metadata": {},
     "output_type": "display_data"
    },
    {
     "name": "stdout",
     "output_type": "stream",
     "text": [
      "Снижение среднего чека: 11.94%\n"
     ]
    }
   ],
   "source": [
    "avc = (buyers_only_abtest.groupby('grp', as_index=False)['price'].mean().rename({'price': 'avg_cheque'}, axis=1 ))\n",
    "display(avc)\n",
    "print(\"Снижение среднего чека: {:.2%}\".format(1-(avc.avg_cheque[1] / avc.avg_cheque[0])))"
   ]
  },
  {
   "cell_type": "markdown",
   "metadata": {},
   "source": [
    "Скидка была 30%, а средний чек снизился только на 11%. Единственное возможное объяснение этому — более высокая доля подписок на год (за 700 руб.) в экспериментальной группе, чем в контрольной группе.  Проверю это предположение."
   ]
  },
  {
   "cell_type": "code",
   "execution_count": 47,
   "metadata": {},
   "outputs": [
    {
     "data": {
      "text/html": [
       "<div>\n",
       "<style scoped>\n",
       "    .dataframe tbody tr th:only-of-type {\n",
       "        vertical-align: middle;\n",
       "    }\n",
       "\n",
       "    .dataframe tbody tr th {\n",
       "        vertical-align: top;\n",
       "    }\n",
       "\n",
       "    .dataframe thead th {\n",
       "        text-align: right;\n",
       "    }\n",
       "</style>\n",
       "<table border=\"1\" class=\"dataframe\">\n",
       "  <thead>\n",
       "    <tr style=\"text-align: right;\">\n",
       "      <th></th>\n",
       "      <th></th>\n",
       "      <th>buyers</th>\n",
       "    </tr>\n",
       "    <tr>\n",
       "      <th>grp</th>\n",
       "      <th>price</th>\n",
       "      <th></th>\n",
       "    </tr>\n",
       "  </thead>\n",
       "  <tbody>\n",
       "    <tr>\n",
       "      <th rowspan=\"2\" valign=\"top\">A</th>\n",
       "      <th>200.0</th>\n",
       "      <td>3230</td>\n",
       "    </tr>\n",
       "    <tr>\n",
       "      <th>1000.0</th>\n",
       "      <td>1049</td>\n",
       "    </tr>\n",
       "    <tr>\n",
       "      <th rowspan=\"2\" valign=\"top\">B</th>\n",
       "      <th>140.0</th>\n",
       "      <td>5912</td>\n",
       "    </tr>\n",
       "    <tr>\n",
       "      <th>700.0</th>\n",
       "      <td>3515</td>\n",
       "    </tr>\n",
       "  </tbody>\n",
       "</table>\n",
       "</div>"
      ],
      "text/plain": [
       "            buyers\n",
       "grp price         \n",
       "A   200.0     3230\n",
       "    1000.0    1049\n",
       "B   140.0     5912\n",
       "    700.0     3515"
      ]
     },
     "metadata": {},
     "output_type": "display_data"
    }
   ],
   "source": [
    "price_summary_df = buyers_only_abtest.groupby(['grp'], as_index=True)['price'].value_counts().to_frame().rename(\n",
    "    {'price': 'buyers'}, axis=1)\n",
    "display(price_summary_df)\n"
   ]
  },
  {
   "cell_type": "markdown",
   "metadata": {},
   "source": [
    "Для удобства группировки сделаю метки для подписок на месяц и на год и добавлю их в датафрейм."
   ]
  },
  {
   "cell_type": "code",
   "execution_count": 49,
   "metadata": {},
   "outputs": [
    {
     "ename": "SyntaxError",
     "evalue": "invalid syntax (<ipython-input-49-e190cef3aa9c>, line 2)",
     "output_type": "error",
     "traceback": [
      "\u001b[0;36m  File \u001b[0;32m\"<ipython-input-49-e190cef3aa9c>\"\u001b[0;36m, line \u001b[0;32m2\u001b[0m\n\u001b[0;31m    price_summary_df['subscription'] = price_summary_df.price.apply(lambda x: if x<250: \"month\" else: \"year\")\u001b[0m\n\u001b[0m                                                                              ^\u001b[0m\n\u001b[0;31mSyntaxError\u001b[0m\u001b[0;31m:\u001b[0m invalid syntax\n"
     ]
    }
   ],
   "source": [
    "price_summary_df = price_summary_df.reset_index()\n",
    "price_summary_df['subscription'] = price_summary_df.price.apply(lambda x: if x<250: \"month\" else: \"year\")"
   ]
  }
 ],
 "metadata": {
  "kernelspec": {
   "display_name": "Python 3",
   "language": "python",
   "name": "python3"
  },
  "language_info": {
   "codemirror_mode": {
    "name": "ipython",
    "version": 3
   },
   "file_extension": ".py",
   "mimetype": "text/x-python",
   "name": "python",
   "nbconvert_exporter": "python",
   "pygments_lexer": "ipython3",
   "version": "3.8.1"
  }
 },
 "nbformat": 4,
 "nbformat_minor": 2
}

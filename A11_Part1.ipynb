{
 "cells": [
  {
   "cell_type": "markdown",
   "metadata": {},
   "source": [
    "# Кейс А11, 1 часть"
   ]
  },
  {
   "cell_type": "markdown",
   "metadata": {},
   "source": [
    "## А11.2.2 Обработка данных"
   ]
  },
  {
   "cell_type": "markdown",
   "metadata": {},
   "source": [
    "Импортируем нужные библиотеки"
   ]
  },
  {
   "cell_type": "code",
   "execution_count": 1,
   "metadata": {},
   "outputs": [],
   "source": [
    "import pandas as pd"
   ]
  },
  {
   "cell_type": "markdown",
   "metadata": {},
   "source": [
    "Определяю константы, которые мне понадобятся."
   ]
  },
  {
   "cell_type": "code",
   "execution_count": 2,
   "metadata": {},
   "outputs": [],
   "source": [
    "TESTS_FILE='Data1/ab_test_groups.csv.bz2'\n",
    "PAYMENTS_FILE='Data1/payments.csv.bz2'\n",
    "TEST_ID=127\n",
    "START_DATE='2019-08-05'\n",
    "END_DATE='2019-08-12'  # This day will not be included"
   ]
  },
  {
   "cell_type": "markdown",
   "metadata": {},
   "source": [
    "Первый файл — разбивка пользователей по тестам и группам, из него нам интересен только тест 127.  Сразу проверю, что группы пользователей A и B не пересекаются."
   ]
  },
  {
   "cell_type": "code",
   "execution_count": 3,
   "metadata": {},
   "outputs": [
    {
     "name": "stdout",
     "output_type": "stream",
     "text": [
      "set()\n"
     ]
    }
   ],
   "source": [
    "test_uids_df = pd.read_csv(TESTS_FILE)\n",
    "test_uids_df = test_uids_df[test_uids_df.ab_test_id==127].reset_index()\n",
    "group_a_st = set(test_uids_df.loc[test_uids_df.grp == 'A', 'user_id'])\n",
    "group_b_st = set(test_uids_df.loc[test_uids_df.grp == 'B', 'user_id'])\n",
    "print(group_a_st.intersection(group_b_st))"
   ]
  },
  {
   "cell_type": "markdown",
   "metadata": {},
   "source": [
    "Множества не пересекаются, отлично. Смотрим, как распределены пользователи по группам"
   ]
  },
  {
   "cell_type": "code",
   "execution_count": 4,
   "metadata": {},
   "outputs": [
    {
     "name": "stdout",
     "output_type": "stream",
     "text": [
      "В группе A 76605 пользователей, в группе B 76627.\n"
     ]
    }
   ],
   "source": [
    "print(\"В группе A {} пользователей, в группе B {}.\".format(len(group_a_st), len(group_b_st)))"
   ]
  },
  {
   "cell_type": "markdown",
   "metadata": {},
   "source": [
    "Соотношение около 50/50, количество пользователей в группах достаточно приличное, чтобы считать статистику. "
   ]
  },
  {
   "cell_type": "markdown",
   "metadata": {},
   "source": [
    "## Считаем статистику по контрольной и экспериментальной группам"
   ]
  },
  {
   "cell_type": "markdown",
   "metadata": {},
   "source": [
    "Загружаем таблицу платежей, вырезаем интересующий нас временной диапазон."
   ]
  },
  {
   "cell_type": "code",
   "execution_count": 5,
   "metadata": {},
   "outputs": [],
   "source": [
    "payments_df = pd.read_csv(PAYMENTS_FILE)\n",
    "payments_df = payments_df.loc[payments_df.created_at.between(START_DATE, END_DATE, inclusive=False)]"
   ]
  },
  {
   "cell_type": "markdown",
   "metadata": {},
   "source": [
    "Готовим набор данных для обработки тестирования, вырезаем только колонки `user_id` и `price`.  Проверяем, что пользователи встречаются в таблице не более одного раза (то есть совершают в исследуемый интервал только одну покупку)"
   ]
  },
  {
   "cell_type": "code",
   "execution_count": 6,
   "metadata": {},
   "outputs": [],
   "source": [
    "abtest_df = payments_df.loc[:,('user_id', 'price')]\n",
    "assert(len(abtest_df) == abtest_df.user_id.nunique())"
   ]
  },
  {
   "cell_type": "markdown",
   "metadata": {},
   "source": [
    "Соединяем таблицы групп пользователей и покупок, избавляемся от лишних полей, считаем интересные нам показатели:"
   ]
  },
  {
   "cell_type": "code",
   "execution_count": 7,
   "metadata": {},
   "outputs": [
    {
     "name": "stdout",
     "output_type": "stream",
     "text": [
      "Количество покупателей в контрольной (А) и экспериментальной (B) группах:\n"
     ]
    },
    {
     "data": {
      "text/html": [
       "<div>\n",
       "<style scoped>\n",
       "    .dataframe tbody tr th:only-of-type {\n",
       "        vertical-align: middle;\n",
       "    }\n",
       "\n",
       "    .dataframe tbody tr th {\n",
       "        vertical-align: top;\n",
       "    }\n",
       "\n",
       "    .dataframe thead th {\n",
       "        text-align: right;\n",
       "    }\n",
       "</style>\n",
       "<table border=\"1\" class=\"dataframe\">\n",
       "  <thead>\n",
       "    <tr style=\"text-align: right;\">\n",
       "      <th></th>\n",
       "      <th>grp</th>\n",
       "      <th>buyers</th>\n",
       "    </tr>\n",
       "  </thead>\n",
       "  <tbody>\n",
       "    <tr>\n",
       "      <th>0</th>\n",
       "      <td>A</td>\n",
       "      <td>4279</td>\n",
       "    </tr>\n",
       "    <tr>\n",
       "      <th>1</th>\n",
       "      <td>B</td>\n",
       "      <td>9427</td>\n",
       "    </tr>\n",
       "  </tbody>\n",
       "</table>\n",
       "</div>"
      ],
      "text/plain": [
       "  grp  buyers\n",
       "0   A    4279\n",
       "1   B    9427"
      ]
     },
     "metadata": {},
     "output_type": "display_data"
    }
   ],
   "source": [
    "abtest_df = payments_df.loc[:,('user_id', 'price')]\n",
    "abtest_df = test_uids_df.merge(abtest_df, on='user_id', how='left')\n",
    "abtest_df = abtest_df.loc[:,['user_id','grp','price']]\n",
    "abtest_df = abtest_df.set_index('user_id')\n",
    "print(\"Количество покупателей в контрольной (А) и экспериментальной (B) группах:\")\n",
    "purch_cnt = (abtest_df.groupby('grp', as_index = False)['price'].count()\n",
    "            ).rename({'price':'buyers'}, axis=1)\n",
    "display(purch_cnt)"
   ]
  },
  {
   "cell_type": "markdown",
   "metadata": {},
   "source": [
    "Разница больше чем вдвое. Для расчёта конверсии и показа разбиения на группы нам понадобится исходное количество\n",
    "пользователей в каждой группе.  Расчитаем доли пользователей по группам, доли покупателей по группам и конверсии."
   ]
  },
  {
   "cell_type": "code",
   "execution_count": 8,
   "metadata": {},
   "outputs": [
    {
     "data": {
      "text/html": [
       "<div>\n",
       "<style scoped>\n",
       "    .dataframe tbody tr th:only-of-type {\n",
       "        vertical-align: middle;\n",
       "    }\n",
       "\n",
       "    .dataframe tbody tr th {\n",
       "        vertical-align: top;\n",
       "    }\n",
       "\n",
       "    .dataframe thead th {\n",
       "        text-align: right;\n",
       "    }\n",
       "</style>\n",
       "<table border=\"1\" class=\"dataframe\">\n",
       "  <thead>\n",
       "    <tr style=\"text-align: right;\">\n",
       "      <th></th>\n",
       "      <th>users_count</th>\n",
       "      <th>buyers</th>\n",
       "      <th>users_share</th>\n",
       "      <th>buyers_share</th>\n",
       "      <th>conversion</th>\n",
       "    </tr>\n",
       "    <tr>\n",
       "      <th>grp</th>\n",
       "      <th></th>\n",
       "      <th></th>\n",
       "      <th></th>\n",
       "      <th></th>\n",
       "      <th></th>\n",
       "    </tr>\n",
       "  </thead>\n",
       "  <tbody>\n",
       "    <tr>\n",
       "      <th>A</th>\n",
       "      <td>76605</td>\n",
       "      <td>4279</td>\n",
       "      <td>0.499928</td>\n",
       "      <td>0.312199</td>\n",
       "      <td>0.055858</td>\n",
       "    </tr>\n",
       "    <tr>\n",
       "      <th>B</th>\n",
       "      <td>76627</td>\n",
       "      <td>9427</td>\n",
       "      <td>0.500072</td>\n",
       "      <td>0.687801</td>\n",
       "      <td>0.123025</td>\n",
       "    </tr>\n",
       "  </tbody>\n",
       "</table>\n",
       "</div>"
      ],
      "text/plain": [
       "     users_count  buyers  users_share  buyers_share  conversion\n",
       "grp                                                            \n",
       "A          76605    4279     0.499928      0.312199    0.055858\n",
       "B          76627    9427     0.500072      0.687801    0.123025"
      ]
     },
     "metadata": {},
     "output_type": "display_data"
    }
   ],
   "source": [
    "users_and_buyers = abtest_df.reset_index().groupby('grp').count().rename(\n",
    "    {'user_id': 'users_count', 'price': 'buyers'},axis=1)\n",
    "users_and_buyers['users_share'] = users_and_buyers['users_count']/sum(users_and_buyers['users_count'])\n",
    "users_and_buyers['buyers_share'] = users_and_buyers['buyers'] / sum(users_and_buyers['buyers'])\n",
    "users_and_buyers['conversion'] = users_and_buyers['buyers'] / users_and_buyers['users_count']\n",
    "display(users_and_buyers)"
   ]
  },
  {
   "cell_type": "markdown",
   "metadata": {},
   "source": [
    "Разделение на группы (A/B) показано в колонке users_share, оно до 3 знака после запятой соответствует разделению 50/50.  При этом конверсия в группе A около 6%, а в группе B более 12%, то есть она выросла больше, чем вдвое.\n",
    "Аналогично видно, что более 2/3 покупателей пришли из группы B.\n",
    "\n",
    "Посмотрим, что при этом происходит со средним чеком."
   ]
  },
  {
   "cell_type": "code",
   "execution_count": 9,
   "metadata": {},
   "outputs": [
    {
     "data": {
      "text/html": [
       "<div>\n",
       "<style scoped>\n",
       "    .dataframe tbody tr th:only-of-type {\n",
       "        vertical-align: middle;\n",
       "    }\n",
       "\n",
       "    .dataframe tbody tr th {\n",
       "        vertical-align: top;\n",
       "    }\n",
       "\n",
       "    .dataframe thead th {\n",
       "        text-align: right;\n",
       "    }\n",
       "</style>\n",
       "<table border=\"1\" class=\"dataframe\">\n",
       "  <thead>\n",
       "    <tr style=\"text-align: right;\">\n",
       "      <th></th>\n",
       "      <th>grp</th>\n",
       "      <th>price</th>\n",
       "    </tr>\n",
       "    <tr>\n",
       "      <th>user_id</th>\n",
       "      <th></th>\n",
       "      <th></th>\n",
       "    </tr>\n",
       "  </thead>\n",
       "  <tbody>\n",
       "    <tr>\n",
       "      <th>1</th>\n",
       "      <td>B</td>\n",
       "      <td>140.0</td>\n",
       "    </tr>\n",
       "    <tr>\n",
       "      <th>10</th>\n",
       "      <td>B</td>\n",
       "      <td>140.0</td>\n",
       "    </tr>\n",
       "    <tr>\n",
       "      <th>23</th>\n",
       "      <td>B</td>\n",
       "      <td>140.0</td>\n",
       "    </tr>\n",
       "    <tr>\n",
       "      <th>24</th>\n",
       "      <td>B</td>\n",
       "      <td>700.0</td>\n",
       "    </tr>\n",
       "    <tr>\n",
       "      <th>39</th>\n",
       "      <td>B</td>\n",
       "      <td>140.0</td>\n",
       "    </tr>\n",
       "  </tbody>\n",
       "</table>\n",
       "</div>"
      ],
      "text/plain": [
       "        grp  price\n",
       "user_id           \n",
       "1         B  140.0\n",
       "10        B  140.0\n",
       "23        B  140.0\n",
       "24        B  700.0\n",
       "39        B  140.0"
      ]
     },
     "execution_count": 9,
     "metadata": {},
     "output_type": "execute_result"
    }
   ],
   "source": [
    "buyers_only_abtest = abtest_df[abtest_df.price.notnull()]\n",
    "buyers_only_abtest.head()"
   ]
  },
  {
   "cell_type": "markdown",
   "metadata": {},
   "source": [
    "В датафрейме `buyers_only_abtest` содержатся только покупатели, колонки: `user_id`, `grp` и цена. Для расчёта среднего чека по группам достаточно сгруппировать датафрейм по полю `grp` и осреднить цену."
   ]
  },
  {
   "cell_type": "code",
   "execution_count": 10,
   "metadata": {},
   "outputs": [
    {
     "data": {
      "text/html": [
       "<div>\n",
       "<style scoped>\n",
       "    .dataframe tbody tr th:only-of-type {\n",
       "        vertical-align: middle;\n",
       "    }\n",
       "\n",
       "    .dataframe tbody tr th {\n",
       "        vertical-align: top;\n",
       "    }\n",
       "\n",
       "    .dataframe thead th {\n",
       "        text-align: right;\n",
       "    }\n",
       "</style>\n",
       "<table border=\"1\" class=\"dataframe\">\n",
       "  <thead>\n",
       "    <tr style=\"text-align: right;\">\n",
       "      <th></th>\n",
       "      <th>grp</th>\n",
       "      <th>avg_cheque</th>\n",
       "    </tr>\n",
       "  </thead>\n",
       "  <tbody>\n",
       "    <tr>\n",
       "      <th>0</th>\n",
       "      <td>A</td>\n",
       "      <td>396.120589</td>\n",
       "    </tr>\n",
       "    <tr>\n",
       "      <th>1</th>\n",
       "      <td>B</td>\n",
       "      <td>348.804498</td>\n",
       "    </tr>\n",
       "  </tbody>\n",
       "</table>\n",
       "</div>"
      ],
      "text/plain": [
       "  grp  avg_cheque\n",
       "0   A  396.120589\n",
       "1   B  348.804498"
      ]
     },
     "metadata": {},
     "output_type": "display_data"
    },
    {
     "name": "stdout",
     "output_type": "stream",
     "text": [
      "Снижение среднего чека: 11.94%\n"
     ]
    }
   ],
   "source": [
    "avc = (buyers_only_abtest.groupby('grp', as_index=False)['price'].mean().rename({'price': 'avg_cheque'}, axis=1 ))\n",
    "display(avc)\n",
    "print(\"Снижение среднего чека: {:.2%}\".format(1-(avc.avg_cheque[1] / avc.avg_cheque[0])))"
   ]
  },
  {
   "cell_type": "markdown",
   "metadata": {},
   "source": [
    "Добавляю средний чек в датафрейм `users_and_buyers`."
   ]
  },
  {
   "cell_type": "code",
   "execution_count": 11,
   "metadata": {},
   "outputs": [
    {
     "data": {
      "text/html": [
       "<div>\n",
       "<style scoped>\n",
       "    .dataframe tbody tr th:only-of-type {\n",
       "        vertical-align: middle;\n",
       "    }\n",
       "\n",
       "    .dataframe tbody tr th {\n",
       "        vertical-align: top;\n",
       "    }\n",
       "\n",
       "    .dataframe thead th {\n",
       "        text-align: right;\n",
       "    }\n",
       "</style>\n",
       "<table border=\"1\" class=\"dataframe\">\n",
       "  <thead>\n",
       "    <tr style=\"text-align: right;\">\n",
       "      <th></th>\n",
       "      <th>grp</th>\n",
       "      <th>users_count</th>\n",
       "      <th>buyers</th>\n",
       "      <th>users_share</th>\n",
       "      <th>buyers_share</th>\n",
       "      <th>conversion</th>\n",
       "      <th>avg_cheque</th>\n",
       "    </tr>\n",
       "  </thead>\n",
       "  <tbody>\n",
       "    <tr>\n",
       "      <th>0</th>\n",
       "      <td>A</td>\n",
       "      <td>76605</td>\n",
       "      <td>4279</td>\n",
       "      <td>0.499928</td>\n",
       "      <td>0.312199</td>\n",
       "      <td>0.055858</td>\n",
       "      <td>396.120589</td>\n",
       "    </tr>\n",
       "    <tr>\n",
       "      <th>1</th>\n",
       "      <td>B</td>\n",
       "      <td>76627</td>\n",
       "      <td>9427</td>\n",
       "      <td>0.500072</td>\n",
       "      <td>0.687801</td>\n",
       "      <td>0.123025</td>\n",
       "      <td>348.804498</td>\n",
       "    </tr>\n",
       "  </tbody>\n",
       "</table>\n",
       "</div>"
      ],
      "text/plain": [
       "  grp  users_count  buyers  users_share  buyers_share  conversion  avg_cheque\n",
       "0   A        76605    4279     0.499928      0.312199    0.055858  396.120589\n",
       "1   B        76627    9427     0.500072      0.687801    0.123025  348.804498"
      ]
     },
     "metadata": {},
     "output_type": "display_data"
    }
   ],
   "source": [
    "users_and_buyers = users_and_buyers.merge(avc, on='grp', how='inner')\n",
    "display(users_and_buyers)"
   ]
  },
  {
   "cell_type": "markdown",
   "metadata": {},
   "source": [
    "Скидка была 30%, а средний чек снизился только на 11%. Единственное возможное объяснение этому — более высокая доля подписок на год (за 700 руб.) в экспериментальной группе, чем в контрольной группе.  Проверю это предположение."
   ]
  },
  {
   "cell_type": "code",
   "execution_count": 12,
   "metadata": {},
   "outputs": [
    {
     "data": {
      "text/html": [
       "<div>\n",
       "<style scoped>\n",
       "    .dataframe tbody tr th:only-of-type {\n",
       "        vertical-align: middle;\n",
       "    }\n",
       "\n",
       "    .dataframe tbody tr th {\n",
       "        vertical-align: top;\n",
       "    }\n",
       "\n",
       "    .dataframe thead th {\n",
       "        text-align: right;\n",
       "    }\n",
       "</style>\n",
       "<table border=\"1\" class=\"dataframe\">\n",
       "  <thead>\n",
       "    <tr style=\"text-align: right;\">\n",
       "      <th></th>\n",
       "      <th></th>\n",
       "      <th>buyers</th>\n",
       "    </tr>\n",
       "    <tr>\n",
       "      <th>grp</th>\n",
       "      <th>price</th>\n",
       "      <th></th>\n",
       "    </tr>\n",
       "  </thead>\n",
       "  <tbody>\n",
       "    <tr>\n",
       "      <th rowspan=\"2\" valign=\"top\">A</th>\n",
       "      <th>200.0</th>\n",
       "      <td>3230</td>\n",
       "    </tr>\n",
       "    <tr>\n",
       "      <th>1000.0</th>\n",
       "      <td>1049</td>\n",
       "    </tr>\n",
       "    <tr>\n",
       "      <th rowspan=\"2\" valign=\"top\">B</th>\n",
       "      <th>140.0</th>\n",
       "      <td>5912</td>\n",
       "    </tr>\n",
       "    <tr>\n",
       "      <th>700.0</th>\n",
       "      <td>3515</td>\n",
       "    </tr>\n",
       "  </tbody>\n",
       "</table>\n",
       "</div>"
      ],
      "text/plain": [
       "            buyers\n",
       "grp price         \n",
       "A   200.0     3230\n",
       "    1000.0    1049\n",
       "B   140.0     5912\n",
       "    700.0     3515"
      ]
     },
     "metadata": {},
     "output_type": "display_data"
    }
   ],
   "source": [
    "price_summary_df = buyers_only_abtest.groupby(['grp'], as_index=True)['price'].value_counts().to_frame().rename(\n",
    "    {'price': 'buyers'}, axis=1)\n",
    "display(price_summary_df)"
   ]
  },
  {
   "cell_type": "markdown",
   "metadata": {},
   "source": [
    "Для удобства группировки сделаю метки для подписок на месяц и на год и добавлю их в датафрейм."
   ]
  },
  {
   "cell_type": "code",
   "execution_count": 13,
   "metadata": {},
   "outputs": [
    {
     "data": {
      "text/html": [
       "<div>\n",
       "<style scoped>\n",
       "    .dataframe tbody tr th:only-of-type {\n",
       "        vertical-align: middle;\n",
       "    }\n",
       "\n",
       "    .dataframe tbody tr th {\n",
       "        vertical-align: top;\n",
       "    }\n",
       "\n",
       "    .dataframe thead th {\n",
       "        text-align: right;\n",
       "    }\n",
       "</style>\n",
       "<table border=\"1\" class=\"dataframe\">\n",
       "  <thead>\n",
       "    <tr style=\"text-align: right;\">\n",
       "      <th></th>\n",
       "      <th></th>\n",
       "      <th>buyers</th>\n",
       "    </tr>\n",
       "    <tr>\n",
       "      <th>grp</th>\n",
       "      <th>subscription</th>\n",
       "      <th></th>\n",
       "    </tr>\n",
       "  </thead>\n",
       "  <tbody>\n",
       "    <tr>\n",
       "      <th rowspan=\"2\" valign=\"top\">A</th>\n",
       "      <th>month</th>\n",
       "      <td>3230</td>\n",
       "    </tr>\n",
       "    <tr>\n",
       "      <th>year</th>\n",
       "      <td>1049</td>\n",
       "    </tr>\n",
       "    <tr>\n",
       "      <th rowspan=\"2\" valign=\"top\">B</th>\n",
       "      <th>month</th>\n",
       "      <td>5912</td>\n",
       "    </tr>\n",
       "    <tr>\n",
       "      <th>year</th>\n",
       "      <td>3515</td>\n",
       "    </tr>\n",
       "  </tbody>\n",
       "</table>\n",
       "</div>"
      ],
      "text/plain": [
       "                  buyers\n",
       "grp subscription        \n",
       "A   month           3230\n",
       "    year            1049\n",
       "B   month           5912\n",
       "    year            3515"
      ]
     },
     "execution_count": 13,
     "metadata": {},
     "output_type": "execute_result"
    }
   ],
   "source": [
    "price_summary_df = price_summary_df.reset_index()\n",
    "# Этот маленький трюк подставляет в колонку subscription слова \"month\"\n",
    "# или \"year\" в зависимости от цены. Если цена < 250, то речь идёт о подписке\n",
    "# на месяц, иначе -- на год.\n",
    "price_summary_df['subscription'] = price_summary_df.price.apply(lambda x: \"month\" if x<250  else \"year\")\n",
    "# Меня интересует только количество покупателей, сгруппированное по 2 вложенным категориям.\n",
    "price_summary_df = price_summary_df.set_index(['grp', 'subscription'])['buyers'].to_frame()\n",
    "price_summary_df"
   ]
  },
  {
   "cell_type": "markdown",
   "metadata": {},
   "source": [
    "Теппрь рассчитаю доли месячной и годичной подписки в контрольной и экспериментальной группах."
   ]
  },
  {
   "cell_type": "code",
   "execution_count": 14,
   "metadata": {},
   "outputs": [
    {
     "name": "stdout",
     "output_type": "stream",
     "text": [
      "\n",
      "В группе A 75.5% покупателей приобрели месячную подписку, а остальные 24.5% годичную.\n",
      "В то же время в группе B 62.7% приобрели месячную подписку, а годичную -- 37.3%.\n",
      "\n"
     ]
    }
   ],
   "source": [
    "a_mon = (price_summary_df.loc[('A', 'month')] / (price_summary_df.loc['A'].sum()))[0]\n",
    "a_yr  = (price_summary_df.loc[('A', 'year')]  / (price_summary_df.loc['A'].sum()))[0]\n",
    "b_mon = (price_summary_df.loc[('B', 'month')] / (price_summary_df.loc['B'].sum()))[0]\n",
    "b_yr  = (price_summary_df.loc[('B', 'year')]  / (price_summary_df.loc['B'].sum()))[0]\n",
    "\n",
    "print('''\n",
    "В группе A {0:.1%} покупателей приобрели месячную подписку, а остальные {1:.1%} годичную.\n",
    "В то же время в группе B {2:.1%} приобрели месячную подписку, а годичную -- {3:.1%}.\n",
    "'''.format(a_mon, a_yr, b_mon, b_yr))"
   ]
  },
  {
   "cell_type": "markdown",
   "metadata": {},
   "source": [
    "Предположение подтверждается: в группе B существенно выше доля годичных подписок."
   ]
  },
  {
   "cell_type": "markdown",
   "metadata": {},
   "source": [
    "### Расчёт ARPU"
   ]
  },
  {
   "cell_type": "markdown",
   "metadata": {},
   "source": [
    "В строгом смысле мы ARPU расчитать не можем, так как известна только прибыль, но не издержки.  Если принять издержки за ноль, то сложностей возникнуть не должно: в этом случае ARPU это средний чек, умноженный на конверсию (мы уже знаем, что на одного пользователя одна покупка). Всё нужное есть в датафрейме `users_and_buyers`:"
   ]
  },
  {
   "cell_type": "markdown",
   "metadata": {},
   "source": [
    "!!! ссылочку надо."
   ]
  },
  {
   "cell_type": "code",
   "execution_count": 15,
   "metadata": {},
   "outputs": [
    {
     "data": {
      "text/html": [
       "<div>\n",
       "<style scoped>\n",
       "    .dataframe tbody tr th:only-of-type {\n",
       "        vertical-align: middle;\n",
       "    }\n",
       "\n",
       "    .dataframe tbody tr th {\n",
       "        vertical-align: top;\n",
       "    }\n",
       "\n",
       "    .dataframe thead th {\n",
       "        text-align: right;\n",
       "    }\n",
       "</style>\n",
       "<table border=\"1\" class=\"dataframe\">\n",
       "  <thead>\n",
       "    <tr style=\"text-align: right;\">\n",
       "      <th></th>\n",
       "      <th>grp</th>\n",
       "      <th>users_count</th>\n",
       "      <th>buyers</th>\n",
       "      <th>users_share</th>\n",
       "      <th>buyers_share</th>\n",
       "      <th>conversion</th>\n",
       "      <th>avg_cheque</th>\n",
       "    </tr>\n",
       "  </thead>\n",
       "  <tbody>\n",
       "    <tr>\n",
       "      <th>0</th>\n",
       "      <td>A</td>\n",
       "      <td>76605</td>\n",
       "      <td>4279</td>\n",
       "      <td>0.499928</td>\n",
       "      <td>0.312199</td>\n",
       "      <td>0.055858</td>\n",
       "      <td>396.120589</td>\n",
       "    </tr>\n",
       "    <tr>\n",
       "      <th>1</th>\n",
       "      <td>B</td>\n",
       "      <td>76627</td>\n",
       "      <td>9427</td>\n",
       "      <td>0.500072</td>\n",
       "      <td>0.687801</td>\n",
       "      <td>0.123025</td>\n",
       "      <td>348.804498</td>\n",
       "    </tr>\n",
       "  </tbody>\n",
       "</table>\n",
       "</div>"
      ],
      "text/plain": [
       "  grp  users_count  buyers  users_share  buyers_share  conversion  avg_cheque\n",
       "0   A        76605    4279     0.499928      0.312199    0.055858  396.120589\n",
       "1   B        76627    9427     0.500072      0.687801    0.123025  348.804498"
      ]
     },
     "metadata": {},
     "output_type": "display_data"
    }
   ],
   "source": [
    "display(users_and_buyers)"
   ]
  },
  {
   "cell_type": "code",
   "execution_count": 16,
   "metadata": {},
   "outputs": [
    {
     "data": {
      "text/html": [
       "<div>\n",
       "<style scoped>\n",
       "    .dataframe tbody tr th:only-of-type {\n",
       "        vertical-align: middle;\n",
       "    }\n",
       "\n",
       "    .dataframe tbody tr th {\n",
       "        vertical-align: top;\n",
       "    }\n",
       "\n",
       "    .dataframe thead th {\n",
       "        text-align: right;\n",
       "    }\n",
       "</style>\n",
       "<table border=\"1\" class=\"dataframe\">\n",
       "  <thead>\n",
       "    <tr style=\"text-align: right;\">\n",
       "      <th></th>\n",
       "      <th>grp</th>\n",
       "      <th>users_count</th>\n",
       "      <th>buyers</th>\n",
       "      <th>users_share</th>\n",
       "      <th>buyers_share</th>\n",
       "      <th>conversion</th>\n",
       "      <th>avg_cheque</th>\n",
       "      <th>arpu</th>\n",
       "    </tr>\n",
       "  </thead>\n",
       "  <tbody>\n",
       "    <tr>\n",
       "      <th>0</th>\n",
       "      <td>A</td>\n",
       "      <td>76605</td>\n",
       "      <td>4279</td>\n",
       "      <td>0.499928</td>\n",
       "      <td>0.312199</td>\n",
       "      <td>0.055858</td>\n",
       "      <td>396.120589</td>\n",
       "      <td>22.126493</td>\n",
       "    </tr>\n",
       "    <tr>\n",
       "      <th>1</th>\n",
       "      <td>B</td>\n",
       "      <td>76627</td>\n",
       "      <td>9427</td>\n",
       "      <td>0.500072</td>\n",
       "      <td>0.687801</td>\n",
       "      <td>0.123025</td>\n",
       "      <td>348.804498</td>\n",
       "      <td>42.911506</td>\n",
       "    </tr>\n",
       "  </tbody>\n",
       "</table>\n",
       "</div>"
      ],
      "text/plain": [
       "  grp  users_count  buyers  users_share  buyers_share  conversion  avg_cheque  \\\n",
       "0   A        76605    4279     0.499928      0.312199    0.055858  396.120589   \n",
       "1   B        76627    9427     0.500072      0.687801    0.123025  348.804498   \n",
       "\n",
       "        arpu  \n",
       "0  22.126493  \n",
       "1  42.911506  "
      ]
     },
     "metadata": {},
     "output_type": "display_data"
    }
   ],
   "source": [
    "users_and_buyers['arpu'] = users_and_buyers.conversion*users_and_buyers.avg_cheque\n",
    "display(users_and_buyers)"
   ]
  },
  {
   "cell_type": "markdown",
   "metadata": {},
   "source": [
    "Считаем дополнительную выручку. Чисел мало, проще всего просто подставить их копипастом."
   ]
  },
  {
   "cell_type": "code",
   "execution_count": 17,
   "metadata": {},
   "outputs": [
    {
     "name": "stdout",
     "output_type": "stream",
     "text": [
      "При сохранении ARPU на уровне группы A группа B принесла бы 1695487 руб. прибыли.\n",
      "Фактически она принесла 3288180 руб., то есть на 1592693 руб. больше.\n",
      "\n"
     ]
    }
   ],
   "source": [
    "temp_df = users_and_buyers.set_index('grp')\n",
    "b_group_old_revenue = temp_df.loc['B','users_count'] * temp_df.loc['A','arpu']\n",
    "b_group_old_revenue\n",
    "b_group_new_revenue = temp_df.loc['B','users_count'] * temp_df.loc['B','arpu']\n",
    "b_group_new_revenue\n",
    "b_group_additional_revenue = b_group_new_revenue - b_group_old_revenue\n",
    "print('''При сохранении ARPU на уровне группы A группа B принесла бы {0:.0f} руб. прибыли.\n",
    "Фактически она принесла {1:.0f} руб., то есть на {2:.0f} руб. больше.\n",
    "'''.format(b_group_old_revenue, b_group_new_revenue, b_group_additional_revenue)\n",
    ")\n"
   ]
  },
  {
   "cell_type": "markdown",
   "metadata": {},
   "source": [
    "## Считаем статистическую значимость"
   ]
  },
  {
   "cell_type": "markdown",
   "metadata": {},
   "source": [
    "Мы получили какие-то цифры (конверсию, ARPU, разницу доходов).  Но насколько уверенно можно утверждать, что это не результат случайности при выборке пользователей, а именно результат скидок?  Для этого нужно посчитать доверительный интервал и p-value, то есть вероятность случайного получения эффекта такой же или большей величины при выборке.\n",
    "Доверительный интервал и p-value буду расчитывать только для конверсии, она оптимальна для такого расчёта, так как это пропорция. Вспоминаю [Guidelines for A/B Testing](https://hookedondata.org/guidelines-for-ab-testing/), и не поддаюсь соблазну считать статистику для других показателей (доли годовых подписок, например).\n",
    "Для попыток расчёта параметров для покупателей есть ещё одно препятствие: покупателей существенно меньше, чем пользователей, поэтому велика вероятность получить высокие p-Value, то есть бесполезные цифры."
   ]
  },
  {
   "cell_type": "markdown",
   "metadata": {},
   "source": [
    "Расчитаю доверительные интервалы с 95% уверенности для конверсии в экспериментальной и контрольной группах.\n",
    "\n",
    "Вспоминаем формулу (речь о пропорции, поэтому используем распределение Гаусса):\n",
    "\n",
    "$$\n",
    "p = \\hat{p} \\pm Z_{0.025} \\times \\sqrt{ {\\hat{p}\\,(1-\\hat{p})\\strut} \\over {n} }\n",
    "$$\n",
    "\n",
    "Выражение с корнем — стандартная ошибка для выборочной пропорции.\n",
    "\n",
    "Контрольная группа\n",
    "\n",
    "$$\n",
    "p_k = 4279/76605 \\pm 1.96 \\times \\sqrt{ { 4279/76605 \\,(1 - 4279/76605\\strut) }\\over 76605 }\n",
    "\\approx 0.056 \\pm 8.297 \\cdot 10^{-4}\n",
    "\\approx [ 0.054..0.057 ]\n",
    "$$\n",
    "\n",
    "Экспериментальная группа:\n",
    "\n",
    "$$\n",
    "p_e = 9427/76627 \\pm 1.96 \\times \\sqrt { {9427/76627\\,(1-9427/76627)\\strut} \\over 76627 } \n",
    "\\approx 0.123 \\pm 2.325\\cdot10^{-3}\n",
    "\\approx [0.121..0.125]\n",
    "$$"
   ]
  },
  {
   "cell_type": "markdown",
   "metadata": {},
   "source": [
    "Доверительные интервалы не пересекаются (и далеки друг от друга, отличие больше чем в 2 раза), что даёт приличную уверенность в том, что конверсии в контрольной и экспериментальной группах действительно разные.  Но расчитаем и p-value.  Для этого необходимо зафиксировать нулевую и альтернативную гипотезы.\n",
    "#### Гипотезы\n",
    "\n",
    "* $H_0$: конверсии в экспериментальной и контрольной группах равны.\n",
    "* $H_a$: конверсия в экспериментальной группе выше, чем в контрольной.\n",
    "\n",
    "Переходим к Z-score для $p_e$.  Формула подразумевает стандартную ошибку разности\n",
    "пропорций $p_k$ и $p_e$, но эту ошибку сначала нужно вычислить.  Мы знаем, что при \n",
    "вычитании двух _независимых_ случайных величин их вариации складываются, и есть основания\n",
    "полагать, что наши выборки независимы: в них входят разные пользователи.  От вариации\n",
    "легко перейти к стандартной ошибке (извлечением корня).\n",
    "\n",
    "Вариация для $p_k$:\n",
    "\n",
    "$$\n",
    "Var_{p_k} =  \\frac{ 4279/76605 \\times (1 - 4279/76605\\strut) }{76605} \\approx 6.884 \\cdot 10^{-7}\n",
    "$$\n",
    "\n",
    "Variance для пропорции $p_e$:\n",
    "$$\n",
    "Var_{p_e} = \\frac{9427/76627 \\times (1-9427/76627\\strut)}{76627} \\approx 1.408 \\cdot 10^{-6}\n",
    "$$\n",
    "\n",
    "Отсюда стандартное отклонение разницы \n",
    "\n",
    "$$\n",
    "se_{diff} = \\sqrt{ Var_{p_e} + Var_{p_k}\\strut } \\approx 1.448 \\cdot 10^{-3} \n",
    "$$\n",
    "\n",
    "Z-score: \n",
    "\n",
    "$$\n",
    "Z_\\hat{p} = \\frac{\\hat{p} - p}{se_{diff}} \\approx 46.27.\n",
    "$$\n",
    "\n",
    "Это очень высокий Z-score, ему соответствует крайне низкий p-value, практически нулевой (точности 32-битного целого на моём компьютере не хватает, чтобы его показать)."
   ]
  },
  {
   "cell_type": "markdown",
   "metadata": {},
   "source": [
    "## Вывод: \n",
    "\n",
    "Подтверждена статистическая значимость изменения конверсии в группе B относительно группы A."
   ]
  },
  {
   "cell_type": "markdown",
   "metadata": {},
   "source": [
    "Попробую ещё библиотечную функцию (`ztest` из модуля `statsmodels.stats.weightstats`), чтобы посчитать Z-score и p-value:"
   ]
  },
  {
   "cell_type": "markdown",
   "metadata": {},
   "source": [
    "### Расчёт Z-score и P-value функцией ztest из пакета statsmodels:"
   ]
  },
  {
   "cell_type": "code",
   "execution_count": 29,
   "metadata": {},
   "outputs": [
    {
     "name": "stdout",
     "output_type": "stream",
     "text": [
      "Группа A: 4279 покупателей из 76605 пользователей.\n",
      "Группа B: 9427 покупателей из 76627 пользователей.\n",
      "Z-score: -46.386, P-Value: 0.0\n"
     ]
    }
   ],
   "source": [
    "from statsmodels.stats.weightstats import ztest\n",
    "# Небольшой хак: мы знаем, что int(False) = 0 и int(True) = 1\n",
    "grp_A = abtest_df.loc[abtest_df.grp=='A', 'price'].notnull().astype(int)\n",
    "grp_B = abtest_df.loc[abtest_df.grp=='B', 'price'].notnull().astype(int)\n",
    "print(f\"Группа A: {grp_A.sum()} покупателей из {len(grp_A)} пользователей.\")\n",
    "print(f\"Группа B: {grp_B.sum()} покупателей из {len(grp_B)} пользователей.\")\n",
    "zscore, pvalue = ztest(grp_A, grp_B)\n",
    "print(f\"Z-score: {zscore:.3f}, p-value: {pvalue}\")"
   ]
  },
  {
   "cell_type": "markdown",
   "metadata": {},
   "source": [
    "Похоже, в ручном расчёте Z-score я несколько ошибся, но на конечный результат это не повлияло."
   ]
  }
 ],
 "metadata": {
  "kernelspec": {
   "display_name": "Python 3",
   "language": "python",
   "name": "python3"
  },
  "language_info": {
   "codemirror_mode": {
    "name": "ipython",
    "version": 3
   },
   "file_extension": ".py",
   "mimetype": "text/x-python",
   "name": "python",
   "nbconvert_exporter": "python",
   "pygments_lexer": "ipython3",
   "version": "3.8.1"
  }
 },
 "nbformat": 4,
 "nbformat_minor": 2
}

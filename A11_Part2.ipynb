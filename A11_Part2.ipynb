{
 "cells": [
  {
   "cell_type": "markdown",
   "metadata": {},
   "source": [
    "# Кейс А11, 2 часть (11.4.1)"
   ]
  },
  {
   "cell_type": "markdown",
   "metadata": {},
   "source": [
    "### Содержание: <a name='contents'/>\n",
    " - [Исходные параметры, цели и задачи](#task)\n",
    " - [Знакомство с данными](#describe_data)\n",
    " - [Продолжаем изучать данные](#data_investigation_cont)\n",
    " - [Расчёт показателей юнит-экономики](#unit_economy)\n",
    " - [Статистическая значимость результатов](#statsign)\n",
    " - [Общие выводы по исследованию](#closure)"
   ]
  },
  {
   "cell_type": "markdown",
   "metadata": {},
   "source": [
    "Исходные параметры: <a name='task'></a>\n",
    "\n",
    "- Два лендинга, короткий и подробный\n",
    "- В эксперименте участвуют все посетители, пришедшие с этих лендингов\n",
    "- Вопросы:\n",
    "  * С какого лендинга приходит больше пользователей?\n",
    "  * Какое качество (в деньгах) этих пользователей?\n",
    "  \n",
    "- Платформа — облачное хранилище\n",
    "- Тарифные планы (в рублях):\n",
    "  + Условно-безлимитные:\n",
    "    * 2 ТБ в месяц за 350,\n",
    "    * 3 месяца 700,\n",
    "    * год — 1500,\n",
    "  + Пакет:\n",
    "    * 10 ГБ за год — 50.\n",
    "    \n",
    "Примечание: не все регистрации происходят после посещения лендинга, один пользователь может совершить больше одной покупки. "
   ]
  },
  {
   "cell_type": "markdown",
   "metadata": {},
   "source": [
    "| [К оглавлению](#contents)   |\n",
    "|:--------------------------"
   ]
  },
  {
   "cell_type": "markdown",
   "metadata": {},
   "source": [
    "## Имеющиеся данные: <a name='describe_data'/>"
   ]
  },
  {
   "cell_type": "markdown",
   "metadata": {},
   "source": [
    "Файлы с данными:\n",
    "\n",
    " - [ab_test_cookies](#ab_test_cookies)\n",
    " - [registrations_in_test_period](#registrations_in_test_period)\n",
    " - [purchases_in_test_period](#purchases_in_test_period)"
   ]
  },
  {
   "cell_type": "code",
   "execution_count": 1,
   "metadata": {},
   "outputs": [],
   "source": [
    "# Импорт необходимых библиотек\n",
    "\n",
    "import pandas as pd\n",
    "import matplotlib.pyplot as plt\n",
    "import seaborn as sns\n",
    "from math import sqrt\n",
    "from scipy import stats as spstats\n",
    "from statsmodels.stats.weightstats import ztest\n",
    "\n",
    "# Определение констант\n",
    "S3_PREFIX='https://miscelanneous.s3-eu-west-1.amazonaws.com/SkillFactory/SDA5_CaseA11'\n",
    "\n",
    "# Инициализация графических библиотек\n",
    "sns.set()\n",
    "sns.set_style('whitegrid')"
   ]
  },
  {
   "cell_type": "markdown",
   "metadata": {},
   "source": [
    "### ab_test_cookies\n",
    "\n",
    "1. `cookie_id` — куки.\n",
    "2. `grp` — группа, в которую входит пользователь."
   ]
  },
  {
   "cell_type": "code",
   "execution_count": 2,
   "metadata": {},
   "outputs": [
    {
     "name": "stdout",
     "output_type": "stream",
     "text": [
      "Строк: 253172, колонок: 2\n"
     ]
    },
    {
     "data": {
      "text/html": [
       "<div>\n",
       "<style scoped>\n",
       "    .dataframe tbody tr th:only-of-type {\n",
       "        vertical-align: middle;\n",
       "    }\n",
       "\n",
       "    .dataframe tbody tr th {\n",
       "        vertical-align: top;\n",
       "    }\n",
       "\n",
       "    .dataframe thead th {\n",
       "        text-align: right;\n",
       "    }\n",
       "</style>\n",
       "<table border=\"1\" class=\"dataframe\">\n",
       "  <thead>\n",
       "    <tr style=\"text-align: right;\">\n",
       "      <th></th>\n",
       "      <th>cookie_id</th>\n",
       "      <th>grp</th>\n",
       "    </tr>\n",
       "  </thead>\n",
       "  <tbody>\n",
       "    <tr>\n",
       "      <th>0</th>\n",
       "      <td>65hj0vyf6kfrckx</td>\n",
       "      <td>A</td>\n",
       "    </tr>\n",
       "    <tr>\n",
       "      <th>1</th>\n",
       "      <td>dnjw8oy95td2jqf</td>\n",
       "      <td>B</td>\n",
       "    </tr>\n",
       "    <tr>\n",
       "      <th>2</th>\n",
       "      <td>beiyb0xfie92m43</td>\n",
       "      <td>B</td>\n",
       "    </tr>\n",
       "  </tbody>\n",
       "</table>\n",
       "</div>"
      ],
      "text/plain": [
       "         cookie_id grp\n",
       "0  65hj0vyf6kfrckx   A\n",
       "1  dnjw8oy95td2jqf   B\n",
       "2  beiyb0xfie92m43   B"
      ]
     },
     "execution_count": 2,
     "metadata": {},
     "output_type": "execute_result"
    }
   ],
   "source": [
    "abt_cookies_df = pd.read_csv(f\"{S3_PREFIX}/ab_test_cookies.csv.bz2\")\n",
    "print(\"Строк: {}, колонок: {}\".format(abt_cookies_df.shape[0], abt_cookies_df.shape[1]))\n",
    "abt_cookies_df.head(3)"
   ]
  },
  {
   "cell_type": "markdown",
   "metadata": {},
   "source": [
    "| [К оглавлению](#contents) | [К началу раздела](#describe_data) |\n",
    "|:--------------------------|-----------------------------------:|"
   ]
  },
  {
   "cell_type": "markdown",
   "metadata": {},
   "source": [
    "### registrations_in_test_period\n",
    "\n",
    "1. `cookie_id` — куки (см. файл #ab_test_cookies);\n",
    "2. `user_id` — ID пользователя (см. в таблицу `purchases_in_test_period`)."
   ]
  },
  {
   "cell_type": "code",
   "execution_count": 3,
   "metadata": {},
   "outputs": [
    {
     "name": "stdout",
     "output_type": "stream",
     "text": [
      "Строк в таблице регистрации: 172350\n"
     ]
    },
    {
     "data": {
      "text/html": [
       "<div>\n",
       "<style scoped>\n",
       "    .dataframe tbody tr th:only-of-type {\n",
       "        vertical-align: middle;\n",
       "    }\n",
       "\n",
       "    .dataframe tbody tr th {\n",
       "        vertical-align: top;\n",
       "    }\n",
       "\n",
       "    .dataframe thead th {\n",
       "        text-align: right;\n",
       "    }\n",
       "</style>\n",
       "<table border=\"1\" class=\"dataframe\">\n",
       "  <thead>\n",
       "    <tr style=\"text-align: right;\">\n",
       "      <th></th>\n",
       "      <th>cookie_id</th>\n",
       "      <th>user_id</th>\n",
       "    </tr>\n",
       "  </thead>\n",
       "  <tbody>\n",
       "    <tr>\n",
       "      <th>0</th>\n",
       "      <td>NaN</td>\n",
       "      <td>382603</td>\n",
       "    </tr>\n",
       "    <tr>\n",
       "      <th>1</th>\n",
       "      <td>NaN</td>\n",
       "      <td>295154</td>\n",
       "    </tr>\n",
       "    <tr>\n",
       "      <th>2</th>\n",
       "      <td>NaN</td>\n",
       "      <td>999732</td>\n",
       "    </tr>\n",
       "  </tbody>\n",
       "</table>\n",
       "</div>"
      ],
      "text/plain": [
       "  cookie_id  user_id\n",
       "0       NaN   382603\n",
       "1       NaN   295154\n",
       "2       NaN   999732"
      ]
     },
     "execution_count": 3,
     "metadata": {},
     "output_type": "execute_result"
    }
   ],
   "source": [
    "reg_df = pd.read_csv(f\"{S3_PREFIX}/registrations_in_test_period.csv.bz2\")\n",
    "print(f\"Строк в таблице регистрации: {reg_df.shape[0]}\")\n",
    "reg_df.head(3)"
   ]
  },
  {
   "cell_type": "markdown",
   "metadata": {},
   "source": [
    "Сразу начинаются интересности: не для всех пользователей есть куки."
   ]
  },
  {
   "cell_type": "markdown",
   "metadata": {},
   "source": [
    "| [К оглавлению](#contents) | [К началу раздела](#describe_data) |\n",
    "|:--------------------------|-----------------------------------:|"
   ]
  },
  {
   "cell_type": "markdown",
   "metadata": {},
   "source": [
    "###  purchases_in_test_period\n",
    "\n",
    "1. `purchase_id` — ID покупки,\n",
    "2. `user_id` — ID покупателя (см. `registrations_in_test_period`),\n",
    "3. `amount` — сумма покупки в рублях."
   ]
  },
  {
   "cell_type": "code",
   "execution_count": 4,
   "metadata": {},
   "outputs": [
    {
     "name": "stdout",
     "output_type": "stream",
     "text": [
      "Количество покупок: 35147\n"
     ]
    },
    {
     "data": {
      "text/html": [
       "<div>\n",
       "<style scoped>\n",
       "    .dataframe tbody tr th:only-of-type {\n",
       "        vertical-align: middle;\n",
       "    }\n",
       "\n",
       "    .dataframe tbody tr th {\n",
       "        vertical-align: top;\n",
       "    }\n",
       "\n",
       "    .dataframe thead th {\n",
       "        text-align: right;\n",
       "    }\n",
       "</style>\n",
       "<table border=\"1\" class=\"dataframe\">\n",
       "  <thead>\n",
       "    <tr style=\"text-align: right;\">\n",
       "      <th></th>\n",
       "      <th>purchase_id</th>\n",
       "      <th>user_id</th>\n",
       "      <th>amount</th>\n",
       "    </tr>\n",
       "  </thead>\n",
       "  <tbody>\n",
       "    <tr>\n",
       "      <th>0</th>\n",
       "      <td>1</td>\n",
       "      <td>275851</td>\n",
       "      <td>350</td>\n",
       "    </tr>\n",
       "    <tr>\n",
       "      <th>1</th>\n",
       "      <td>2</td>\n",
       "      <td>923077</td>\n",
       "      <td>1500</td>\n",
       "    </tr>\n",
       "    <tr>\n",
       "      <th>2</th>\n",
       "      <td>3</td>\n",
       "      <td>959409</td>\n",
       "      <td>50</td>\n",
       "    </tr>\n",
       "  </tbody>\n",
       "</table>\n",
       "</div>"
      ],
      "text/plain": [
       "   purchase_id  user_id  amount\n",
       "0            1   275851     350\n",
       "1            2   923077    1500\n",
       "2            3   959409      50"
      ]
     },
     "execution_count": 4,
     "metadata": {},
     "output_type": "execute_result"
    }
   ],
   "source": [
    "purch_df = pd.read_csv(f\"{S3_PREFIX}/purchases_in_test_period.csv.bz2\")\n",
    "print(f\"Количество покупок: {purch_df.shape[0]}\")\n",
    "purch_df.head(3)"
   ]
  },
  {
   "cell_type": "markdown",
   "metadata": {},
   "source": [
    "| [К оглавлению](#contents) | [К началу раздела](#describe_data) |\n",
    "|:--------------------------|-----------------------------------:|"
   ]
  },
  {
   "cell_type": "markdown",
   "metadata": {},
   "source": [
    "## Продолжаем изучать данные <a name='data_investigation_cont'/>"
   ]
  },
  {
   "cell_type": "markdown",
   "metadata": {},
   "source": [
    "### Вопросы"
   ]
  },
  {
   "cell_type": "markdown",
   "metadata": {},
   "source": [
    "1. Все ли Cookie ID из файла `ab_test_cookies` есть в файле registrations?\n",
    "2. Для всех ли пользователей тестовых групп есть покупки? Если нет, каковы конверсии?\n",
    "3. Тарифных планов для пользователей у нас нет, придётся оценивать покупки только по суммарным показателям.\n",
    "Хотя может оказаться, что по сумме будет понятно, что именно куплено.\n",
    "4. Можно ли установить взаимно-однозначное соответствие между `user_id` и `cookie_id`?"
   ]
  },
  {
   "cell_type": "markdown",
   "metadata": {},
   "source": [
    "Имеем последовательность действий: \n",
    "\n",
    "1) браузеры устанавливают соединение с сервером клиента, получают уникальные куки и с этого момента становятся «посетителями».  \n",
    "\n",
    "2) Часть посетителей принимает решение зарегистрироваться на сервисе и превращаются в «пользователей».\n",
    "\n",
    "3) Некоторые пользователи подключают платные услуги и становятся «покупателями».  Налицо *двухступенчатая воронка продаж*."
   ]
  },
  {
   "cell_type": "code",
   "execution_count": 5,
   "metadata": {},
   "outputs": [
    {
     "name": "stdout",
     "output_type": "stream",
     "text": [
      "# of unique cookies: 253172 of 253172 total\n"
     ]
    },
    {
     "data": {
      "text/html": [
       "<div>\n",
       "<style scoped>\n",
       "    .dataframe tbody tr th:only-of-type {\n",
       "        vertical-align: middle;\n",
       "    }\n",
       "\n",
       "    .dataframe tbody tr th {\n",
       "        vertical-align: top;\n",
       "    }\n",
       "\n",
       "    .dataframe thead th {\n",
       "        text-align: right;\n",
       "    }\n",
       "</style>\n",
       "<table border=\"1\" class=\"dataframe\">\n",
       "  <thead>\n",
       "    <tr style=\"text-align: right;\">\n",
       "      <th></th>\n",
       "      <th>n_cookies</th>\n",
       "      <th>cookies_share</th>\n",
       "    </tr>\n",
       "    <tr>\n",
       "      <th>grp</th>\n",
       "      <th></th>\n",
       "      <th></th>\n",
       "    </tr>\n",
       "  </thead>\n",
       "  <tbody>\n",
       "    <tr>\n",
       "      <th>A</th>\n",
       "      <td>101329</td>\n",
       "      <td>0.400238</td>\n",
       "    </tr>\n",
       "    <tr>\n",
       "      <th>B</th>\n",
       "      <td>151843</td>\n",
       "      <td>0.599762</td>\n",
       "    </tr>\n",
       "  </tbody>\n",
       "</table>\n",
       "</div>"
      ],
      "text/plain": [
       "     n_cookies  cookies_share\n",
       "grp                          \n",
       "A       101329       0.400238\n",
       "B       151843       0.599762"
      ]
     },
     "metadata": {},
     "output_type": "display_data"
    }
   ],
   "source": [
    "# Начинаю с подсчёта куки по группам и конверсии этих куки (назову их \"посетителями\") в пользователей.\n",
    "ab_grps_cnt = abt_cookies_df.groupby('grp').count().rename(columns={'cookie_id': 'n_cookies'})\n",
    "ab_grps_cnt['cookies_share'] = ab_grps_cnt.n_cookies / ab_grps_cnt.n_cookies.sum()\n",
    "print(\"# of unique cookies: {0} of {1} total\".format(abt_cookies_df.cookie_id.nunique(), abt_cookies_df.shape[0]))\n",
    "display(ab_grps_cnt)\n"
   ]
  },
  {
   "cell_type": "markdown",
   "metadata": {},
   "source": [
    "Имеем дело с разделением на контрольную и экспериментальную группу в пропорции 40/60.  Вот только не известно, какая из групп контрольная.\n",
    "\n",
    "Соотношение пользователей групп A и B не 50/50, это не лучший вариант с точки зрения планирования эксперимента и обработки его результатов. Частично это можно сгладить учётом только относительных параметров (т.е. делённых на количество пользователелей — конверсии, ARPU, ...)"
   ]
  },
  {
   "cell_type": "markdown",
   "metadata": {},
   "source": [
    "Далее получим списки идентификаторов зарегистрированных пользователей в группах A и B.  По условиям работы «облачного» хранилища услуги предоставляются исключительно зарегистрированным пользователям, поэтому прямого перехода от получения куки к продажам быть не может."
   ]
  },
  {
   "cell_type": "code",
   "execution_count": 6,
   "metadata": {},
   "outputs": [
    {
     "name": "stdout",
     "output_type": "stream",
     "text": [
      "Все пользователи в таблице reg_df уникальны\n",
      "Всего зарегистрировалось 72485 пользователей\n",
      "Пользователей в группах A: 31439, B: 41046, доля группы A 43.37%\n"
     ]
    }
   ],
   "source": [
    "if reg_df.user_id.nunique() == reg_df.shape[0]:\n",
    "    print(\"Все пользователи в таблице reg_df уникальны\")\n",
    "sort_df = reg_df.merge(abt_cookies_df, on='cookie_id')\n",
    "print(f\"Всего зарегистрировалось {sort_df.shape[0]} пользователей\")\n",
    "a_users_st = frozenset(sort_df.loc[sort_df.grp=='A', 'user_id'])\n",
    "b_users_st = frozenset(sort_df.loc[sort_df.grp=='B', 'user_id'])\n",
    "print(\"Пользователей в группах A: {0}, B: {1}, доля группы A {2:.2%}\".format(\n",
    "    len(a_users_st), len(b_users_st), len(a_users_st)/(len(a_users_st) + len(b_users_st))\n",
    "))"
   ]
  },
  {
   "cell_type": "markdown",
   "metadata": {},
   "source": [
    "| [К оглавлению](#contents) | [К началу раздела](#data_investigation_cont) |\n",
    "|:--------------------------|---------------------------------------------:|"
   ]
  },
  {
   "cell_type": "markdown",
   "metadata": {},
   "source": [
    " ## Расчёт показателей юнит-экономики <a name='unit_economy'/>"
   ]
  },
  {
   "cell_type": "markdown",
   "metadata": {},
   "source": [
    "### Конверсия посетителей в пользователей <a name=\"conversion_vu\"/>"
   ]
  },
  {
   "cell_type": "markdown",
   "metadata": {},
   "source": [
    "Известно количество куки и зарегистрированных пользователей: можно расчитать конверсию на первом этапе."
   ]
  },
  {
   "cell_type": "code",
   "execution_count": 7,
   "metadata": {},
   "outputs": [
    {
     "data": {
      "text/html": [
       "<div>\n",
       "<style scoped>\n",
       "    .dataframe tbody tr th:only-of-type {\n",
       "        vertical-align: middle;\n",
       "    }\n",
       "\n",
       "    .dataframe tbody tr th {\n",
       "        vertical-align: top;\n",
       "    }\n",
       "\n",
       "    .dataframe thead th {\n",
       "        text-align: right;\n",
       "    }\n",
       "</style>\n",
       "<table border=\"1\" class=\"dataframe\">\n",
       "  <thead>\n",
       "    <tr style=\"text-align: right;\">\n",
       "      <th></th>\n",
       "      <th>n_cookies</th>\n",
       "      <th>cookies_share</th>\n",
       "      <th>n_users</th>\n",
       "      <th>users_share</th>\n",
       "      <th>conv_v_u</th>\n",
       "    </tr>\n",
       "    <tr>\n",
       "      <th>grp</th>\n",
       "      <th></th>\n",
       "      <th></th>\n",
       "      <th></th>\n",
       "      <th></th>\n",
       "      <th></th>\n",
       "    </tr>\n",
       "  </thead>\n",
       "  <tbody>\n",
       "    <tr>\n",
       "      <th>A</th>\n",
       "      <td>101329</td>\n",
       "      <td>0.400238</td>\n",
       "      <td>31439</td>\n",
       "      <td>0.433731</td>\n",
       "      <td>0.310267</td>\n",
       "    </tr>\n",
       "    <tr>\n",
       "      <th>B</th>\n",
       "      <td>151843</td>\n",
       "      <td>0.599762</td>\n",
       "      <td>41046</td>\n",
       "      <td>0.566269</td>\n",
       "      <td>0.270319</td>\n",
       "    </tr>\n",
       "  </tbody>\n",
       "</table>\n",
       "</div>"
      ],
      "text/plain": [
       "     n_cookies  cookies_share  n_users  users_share  conv_v_u\n",
       "grp                                                          \n",
       "A       101329       0.400238    31439     0.433731  0.310267\n",
       "B       151843       0.599762    41046     0.566269  0.270319"
      ]
     },
     "metadata": {},
     "output_type": "display_data"
    },
    {
     "name": "stdout",
     "output_type": "stream",
     "text": [
      "Итак, конверсия посетителей в пользователей для группы A составляет 31.03%, а для группы B 27.03%\n"
     ]
    }
   ],
   "source": [
    "ab_users_cnt = sort_df.groupby('grp')['user_id'].count()\n",
    "\n",
    "ab_grps_cnt['n_users'] = ab_users_cnt\n",
    "ab_grps_cnt['users_share'] = ab_grps_cnt.n_users / ab_grps_cnt.n_users.sum()\n",
    "ab_grps_cnt['conv_v_u'] = ab_grps_cnt.n_users / ab_grps_cnt.n_cookies\n",
    "\n",
    "display(ab_grps_cnt)\n",
    "print(\"Итак, конверсия посетителей в пользователей для группы A составляет {0:.2%}, а для группы B {1:.2%}\".format(\n",
    "    ab_grps_cnt.loc['A', 'conv_v_u'], ab_grps_cnt.loc['B', 'conv_v_u']\n",
    "))"
   ]
  },
  {
   "cell_type": "markdown",
   "metadata": {},
   "source": [
    "На этом этапе воронки никаких денег ещё нет, а данными о поведении пользователей мы не располагаем.\n",
    "Перейдём к следующему этапу воронки: продаже тарифного плана."
   ]
  },
  {
   "cell_type": "markdown",
   "metadata": {},
   "source": [
    "| [К оглавлению](#contents) | [К началу раздела](#unit_economy)  |\n",
    "|:--------------------------|-----------------------------------:|"
   ]
  },
  {
   "cell_type": "markdown",
   "metadata": {},
   "source": [
    "### Параметры юнит-экономики на втором этапе воронки <a name='ue_2nd_conversion'/>"
   ]
  },
  {
   "cell_type": "markdown",
   "metadata": {},
   "source": [
    "- [Конверсия](#conversion_uc)\n",
    "- [ARPC](#arpc)\n",
    "- [ARPU](#arpu)\n",
    "- [Средний чек](#avg_cheque)\n",
    "- [Структура покупок](#demand_structure)\n",
    "- [Сводные данные по группам](#groups_ue_summary)"
   ]
  },
  {
   "cell_type": "markdown",
   "metadata": {},
   "source": [
    "#### Конверсия пользователей в покупателей <a name='conversion_uc'/>"
   ]
  },
  {
   "cell_type": "markdown",
   "metadata": {},
   "source": [
    "Данные по второму этапу воронки лежат в датафрейме `purch_df`. Нас интересуют те строки этого датафрейма, идентификатор которых содержится в датафрейме `reg_df`, а куки в таблице `abt_cookies_df`.  Нужно также установить, есть ли среди покупателей повторники, то есть рецидивисты:"
   ]
  },
  {
   "cell_type": "code",
   "execution_count": 8,
   "metadata": {},
   "outputs": [
    {
     "name": "stdout",
     "output_type": "stream",
     "text": [
      "Количество покупателей: 33740, кол-во покупок: 35147\n"
     ]
    }
   ],
   "source": [
    "print(f\"Количество покупателей: {purch_df.user_id.nunique()}, кол-во покупок: {purch_df.shape[0]}\")"
   ]
  },
  {
   "cell_type": "markdown",
   "metadata": {},
   "source": [
    "Есть такие покупатели, которые платили деньги больше одного раза."
   ]
  },
  {
   "cell_type": "code",
   "execution_count": 9,
   "metadata": {},
   "outputs": [
    {
     "name": "stdout",
     "output_type": "stream",
     "text": [
      "\n",
      "Всего участники эксперимента совершили 15187  покупок, \n",
      "из них группа А : 6085 (40.07%),\n",
      "и группа B : 9102 (59.93%),\n",
      "\n"
     ]
    }
   ],
   "source": [
    "a_grp_mask = purch_df.user_id.apply(lambda x : x in a_users_st)\n",
    "b_grp_mask = purch_df.user_id.apply(lambda x : x in b_users_st)\n",
    "# Ловушка ошибок, чтобы убедиться, что булевы маски правильной длины\n",
    "assert(len(a_grp_mask) == len(b_grp_mask))\n",
    "assert(len(a_grp_mask) == purch_df.shape[0])\n",
    "# Небольшой хак, основанный на том, что при суммировании True считается за 1, а False 0.\n",
    "a_trn_cnt, b_trn_cnt = (a_grp_mask.sum(), b_grp_mask.sum())\n",
    "transactions_count = a_trn_cnt + b_trn_cnt\n",
    "print(\"\"\"\n",
    "Всего участники эксперимента совершили {0}  покупок, \n",
    "из них группа А : {1} ({3:.2%}),\n",
    "и группа B : {2} ({4:.2%}),\n",
    "\"\"\".format(\n",
    "    transactions_count,\n",
    "    a_trn_cnt, b_trn_cnt,\n",
    "    a_trn_cnt/transactions_count, \n",
    "    b_trn_cnt/transactions_count,\n",
    "))"
   ]
  },
  {
   "cell_type": "markdown",
   "metadata": {},
   "source": [
    "Для расчёта конверсии нужно выделить количество уникальных покупателей в группах А и B, а количество посетителей в них мы уже знаем, оно есть в датафрейме `ab_grps_cnt`."
   ]
  },
  {
   "cell_type": "code",
   "execution_count": 10,
   "metadata": {},
   "outputs": [
    {
     "name": "stdout",
     "output_type": "stream",
     "text": [
      "Количество покупателей по группам: A: 5815, B: 8797\n",
      "Конверсия посетителей в покупателей по группам:\n",
      "A: 5.74%,\n",
      "B: 5.79%.\n",
      "\n"
     ]
    }
   ],
   "source": [
    "all_buyers_st = frozenset(purch_df.user_id)\n",
    "a_buyers_st = all_buyers_st.intersection(a_users_st)\n",
    "b_buyers_st = all_buyers_st.intersection(b_users_st)\n",
    "print(f\"Количество покупателей по группам: A: {len(a_buyers_st)}, B: {len(b_buyers_st)}\")\n",
    "conversion_v_c = {'A': float(len(a_buyers_st)) / ab_grps_cnt.loc['A', 'n_cookies'],\n",
    "                  'B': float(len(b_buyers_st)) / ab_grps_cnt.loc['B', 'n_cookies']}\n",
    "print(\"\"\"Конверсия посетителей в покупателей по группам:\n",
    "A: {0:.2%},\n",
    "B: {1:.2%}.\n",
    "\"\"\".format(\n",
    "    conversion_v_c['A'],\n",
    "    conversion_v_c['B']\n",
    "))"
   ]
  },
  {
   "cell_type": "markdown",
   "metadata": {},
   "source": [
    "##### Вывод по сквозной конверсии\n",
    "В группе B конверсия заметно выше.  Насколько этот вывод статистически значим, посмотрим [ниже]"
   ]
  },
  {
   "cell_type": "markdown",
   "metadata": {},
   "source": [
    "| [К оглавлению](#contents) | [К началу раздела](#unit_economy)  |\n",
    "|:--------------------------|-----------------------------------:|"
   ]
  },
  {
   "cell_type": "markdown",
   "metadata": {},
   "source": [
    "#### ARPC <a name='arpc'/>"
   ]
  },
  {
   "cell_type": "markdown",
   "metadata": {},
   "source": [
    "ARPC (правильнее, общий доход на покупателя, gross revenue per customer) можно посчитать тут же, просуммировав стоимость покупок по группам."
   ]
  },
  {
   "cell_type": "code",
   "execution_count": 11,
   "metadata": {},
   "outputs": [
    {
     "name": "stdout",
     "output_type": "stream",
     "text": [
      "Доход на покупателя (ARPC) по группам:\n",
      "Группа А: 553.05 руб.,\n",
      "Группа B: 623.09 руб.\n",
      "\n"
     ]
    }
   ],
   "source": [
    "print(\"\"\"Доход на покупателя (ARPC) по группам:\n",
    "Группа А: {0:.2f} руб.,\n",
    "Группа B: {1:.2f} руб.\n",
    "\"\"\".format(\n",
    "purch_df.loc[a_grp_mask, 'amount'].sum() / purch_df.loc[a_grp_mask,'user_id'].nunique(),\n",
    "purch_df.loc[b_grp_mask, 'amount'].sum() / purch_df.loc[b_grp_mask,'user_id'].nunique()\n",
    "))"
   ]
  },
  {
   "cell_type": "markdown",
   "metadata": {},
   "source": [
    "##### Вывод по ARPC:\n",
    "в группе B доход на каждого покупателя заметно выше."
   ]
  },
  {
   "cell_type": "markdown",
   "metadata": {},
   "source": [
    "| [К оглавлению](#contents) | [К началу раздела](#unit_economy)  |\n",
    "|:--------------------------|-----------------------------------:|"
   ]
  },
  {
   "cell_type": "markdown",
   "metadata": {},
   "source": [
    "#### ARPU <a name='arpu'/>"
   ]
  },
  {
   "cell_type": "markdown",
   "metadata": {},
   "source": [
    "Зная суммарный «грязный» доход в обеих группах и общее количество пользователей и посетителей, легко посчитать ARPU простым делением.  Обращаю внимание, что это ARPU может быть рассчитан двумя способами: только по зарегистрированным пользователям или по всем посетителям лендингов.  Поставленная задача относится к эффективности лендингов, поэтому ARPU я расчитываю для *посетителей*, то есть сквозное для двухэтапной воронки."
   ]
  },
  {
   "cell_type": "code",
   "execution_count": 12,
   "metadata": {},
   "outputs": [
    {
     "name": "stdout",
     "output_type": "stream",
     "text": [
      "Доход на поcетителя (ARPU) по группам:\n",
      "Группа А: 31.74 руб.,\n",
      "Группа B: 36.10 руб.\n",
      "\n"
     ]
    }
   ],
   "source": [
    "# этот дата-фрейм появился у нас при обработке файла ab_test_cookies\n",
    "# display(ab_grps_cnt)\n",
    "\n",
    "print(\"\"\"Доход на поcетителя (ARPU) по группам:\n",
    "Группа А: {0:.2f} руб.,\n",
    "Группа B: {1:.2f} руб.\n",
    "\"\"\".format(\n",
    "purch_df.loc[a_grp_mask, 'amount'].sum() / ab_grps_cnt.loc['A', 'n_cookies'],\n",
    "purch_df.loc[b_grp_mask, 'amount'].sum() / ab_grps_cnt.loc['B', 'n_cookies']\n",
    "))"
   ]
  },
  {
   "cell_type": "markdown",
   "metadata": {},
   "source": [
    "##### Вывод по ARPU:\n",
    "Средний доход на пользователя заметно (примерно на 1/8) выше в группе B.\n",
    "Насколько значимо это изменение, посмотрим [далее](#statsign)."
   ]
  },
  {
   "cell_type": "markdown",
   "metadata": {},
   "source": [
    "| [К оглавлению](#contents) | [К началу раздела](#unit_economy)  |\n",
    "|:--------------------------|-----------------------------------:|"
   ]
  },
  {
   "cell_type": "markdown",
   "metadata": {},
   "source": [
    "#### Средний чек (на покупку) <a name='avg_cheque'/>"
   ]
  },
  {
   "cell_type": "markdown",
   "metadata": {},
   "source": [
    "Для получения среднего чека нужно разделить общую выручку в группе на количество покупок, совершённых пользователями этой группы.\n",
    "\n",
    "Все необходимые данные уже есть в датафрейме `purch_struct_df`, осталось выполнить пару арифметических\n",
    "действий."
   ]
  },
  {
   "cell_type": "code",
   "execution_count": 13,
   "metadata": {},
   "outputs": [
    {
     "name": "stdout",
     "output_type": "stream",
     "text": [
      "Средние чеки по группам:\n",
      "A: 528.51 руб.,\n",
      "B: 602.21 руб.\n",
      "\n"
     ]
    }
   ],
   "source": [
    "# Эти переменные определены выше, когда считали покупки\n",
    "# a_grp_mask = purch_df.user_id.apply(lambda x : x in a_users_st)\n",
    "# b_grp_mask = purch_df.user_id.apply(lambda x : x in b_users_st)\n",
    "a_avp = (purch_df.loc[a_grp_mask,'amount'].sum() / \n",
    "         purch_df.loc[a_grp_mask,'purchase_id'].count())\n",
    "b_avp = (purch_df.loc[b_grp_mask,'amount'].sum() / \n",
    "         purch_df.loc[b_grp_mask,'purchase_id'].count())\n",
    "print(\"\"\"Средние чеки по группам:\n",
    "A: {0:.2f} руб.,\n",
    "B: {1:.2f} руб.\n",
    "\"\"\".format(a_avp, b_avp))"
   ]
  },
  {
   "cell_type": "markdown",
   "metadata": {},
   "source": [
    "| [К оглавлению](#contents) | [К началу раздела](#unit_economy)  |\n",
    "|:--------------------------|-----------------------------------:|"
   ]
  },
  {
   "cell_type": "markdown",
   "metadata": {},
   "source": [
    "#### Структура покупок по группам <a name='demand_structure'/>"
   ]
  },
  {
   "cell_type": "markdown",
   "metadata": {},
   "source": [
    "Цены у нас фиксированы, количество вариантов предложений ограничено. Разделяю покупки на группы по стоимости покупки, смотрю соотношения.  Мне понадобится функция для преобразования цены в тип покупки, создаю её и тестирую:"
   ]
  },
  {
   "cell_type": "code",
   "execution_count": 14,
   "metadata": {},
   "outputs": [],
   "source": [
    "def price_to_type(price: int) -> str:\n",
    "    \"Выдаёт строку -- тип подписки по цене\"\n",
    "    key_d = {350: 'month', 700: 'quarter', 1500: 'year', 50: 'package'}\n",
    "    try:\n",
    "        result = key_d[price]\n",
    "    except KeyError:\n",
    "        if type(price) is int and price > 50 and price % 50 == 0:\n",
    "            # пользователь мог купить несколько 10-ГБ пакетов\n",
    "            result= 'package'\n",
    "        else:\n",
    "            result = 'other'\n",
    "    return result\n",
    "\n",
    "def _t_price_type():\n",
    "    \"тест функции price_to_type\"\n",
    "    assert(price_to_type(350)  == 'month')\n",
    "    assert(price_to_type(700)  == 'quarter')\n",
    "    assert(price_to_type(1500) == 'year')\n",
    "    assert(price_to_type(50)   == 'package')\n",
    "    assert(price_to_type(100)  == 'package')\n",
    "    assert(price_to_type(650)  == 'package')\n",
    "    assert(price_to_type(90)   == 'other')\n",
    "    assert(price_to_type(0)    == 'other')\n",
    "    assert(price_to_type(-1.5) == 'other')\n",
    "    assert(price_to_type(None) == 'other')\n",
    "    return\n",
    "\n",
    "_t_price_type()"
   ]
  },
  {
   "cell_type": "code",
   "execution_count": 15,
   "metadata": {},
   "outputs": [],
   "source": [
    "a_purch_struct_df = purch_df.loc[a_grp_mask]['amount'].value_counts().to_frame().reset_index()\n",
    "a_purch_struct_df.columns = (\"price\", \"purchases\")\n",
    "a_purch_struct_df['group'] = 'A'\n",
    "a_purch_struct_df['purch_type'] = a_purch_struct_df.price.apply(price_to_type)\n",
    "a_purch_struct_df['purchase_share'] = a_purch_struct_df.purchases / a_trn_cnt\n",
    "a_purch_struct_df = a_purch_struct_df.set_index(['group','purch_type'])\n",
    "#\n",
    "b_purch_struct_df = purch_df.loc[b_grp_mask]['amount'].value_counts().to_frame().reset_index()\n",
    "b_purch_struct_df.columns = (\"price\", \"purchases\")\n",
    "b_purch_struct_df['group'] = 'B'\n",
    "b_purch_struct_df['purch_type'] = b_purch_struct_df.price.apply(price_to_type)\n",
    "b_purch_struct_df['purchase_share'] = b_purch_struct_df.purchases / b_trn_cnt\n",
    "b_purch_struct_df = b_purch_struct_df.set_index(['group','purch_type'])\n",
    "\n",
    "purch_struct_df = pd.concat((a_purch_struct_df, b_purch_struct_df))  # Note the 2nd pair of ()"
   ]
  },
  {
   "cell_type": "code",
   "execution_count": 16,
   "metadata": {},
   "outputs": [
    {
     "name": "stdout",
     "output_type": "stream",
     "text": [
      "Структура покупок по группам одной таблицей\n"
     ]
    },
    {
     "data": {
      "text/html": [
       "<div>\n",
       "<style scoped>\n",
       "    .dataframe tbody tr th:only-of-type {\n",
       "        vertical-align: middle;\n",
       "    }\n",
       "\n",
       "    .dataframe tbody tr th {\n",
       "        vertical-align: top;\n",
       "    }\n",
       "\n",
       "    .dataframe thead th {\n",
       "        text-align: right;\n",
       "    }\n",
       "</style>\n",
       "<table border=\"1\" class=\"dataframe\">\n",
       "  <thead>\n",
       "    <tr style=\"text-align: right;\">\n",
       "      <th></th>\n",
       "      <th></th>\n",
       "      <th>price</th>\n",
       "      <th>purchases</th>\n",
       "      <th>purchase_share</th>\n",
       "    </tr>\n",
       "    <tr>\n",
       "      <th>group</th>\n",
       "      <th>purch_type</th>\n",
       "      <th></th>\n",
       "      <th></th>\n",
       "      <th></th>\n",
       "    </tr>\n",
       "  </thead>\n",
       "  <tbody>\n",
       "    <tr>\n",
       "      <th rowspan=\"4\" valign=\"top\">A</th>\n",
       "      <th>month</th>\n",
       "      <td>350</td>\n",
       "      <td>2282</td>\n",
       "      <td>0.375021</td>\n",
       "    </tr>\n",
       "    <tr>\n",
       "      <th>package</th>\n",
       "      <td>50</td>\n",
       "      <td>1824</td>\n",
       "      <td>0.299753</td>\n",
       "    </tr>\n",
       "    <tr>\n",
       "      <th>year</th>\n",
       "      <td>1500</td>\n",
       "      <td>1176</td>\n",
       "      <td>0.193262</td>\n",
       "    </tr>\n",
       "    <tr>\n",
       "      <th>quarter</th>\n",
       "      <td>700</td>\n",
       "      <td>803</td>\n",
       "      <td>0.131964</td>\n",
       "    </tr>\n",
       "    <tr>\n",
       "      <th rowspan=\"4\" valign=\"top\">B</th>\n",
       "      <th>month</th>\n",
       "      <td>350</td>\n",
       "      <td>3639</td>\n",
       "      <td>0.399802</td>\n",
       "    </tr>\n",
       "    <tr>\n",
       "      <th>year</th>\n",
       "      <td>1500</td>\n",
       "      <td>2319</td>\n",
       "      <td>0.254779</td>\n",
       "    </tr>\n",
       "    <tr>\n",
       "      <th>package</th>\n",
       "      <td>50</td>\n",
       "      <td>2264</td>\n",
       "      <td>0.248737</td>\n",
       "    </tr>\n",
       "    <tr>\n",
       "      <th>quarter</th>\n",
       "      <td>700</td>\n",
       "      <td>880</td>\n",
       "      <td>0.096682</td>\n",
       "    </tr>\n",
       "  </tbody>\n",
       "</table>\n",
       "</div>"
      ],
      "text/plain": [
       "                  price  purchases  purchase_share\n",
       "group purch_type                                  \n",
       "A     month         350       2282        0.375021\n",
       "      package        50       1824        0.299753\n",
       "      year         1500       1176        0.193262\n",
       "      quarter       700        803        0.131964\n",
       "B     month         350       3639        0.399802\n",
       "      year         1500       2319        0.254779\n",
       "      package        50       2264        0.248737\n",
       "      quarter       700        880        0.096682"
      ]
     },
     "metadata": {},
     "output_type": "display_data"
    }
   ],
   "source": [
    "epsilon = 1e-14\n",
    "assert(abs(purch_struct_df.loc['A', 'purchase_share'].sum() - 1.0) < epsilon)\n",
    "assert(abs(purch_struct_df.loc['B', 'purchase_share'].sum() - 1.0) < epsilon)\n",
    "\n",
    "print(\"Структура покупок по группам одной таблицей\")\n",
    "display(purch_struct_df)"
   ]
  },
  {
   "cell_type": "code",
   "execution_count": 17,
   "metadata": {},
   "outputs": [
    {
     "data": {
      "image/png": "[encoded data removed]",
      "text/plain": [
       "<Figure size 648x360 with 1 Axes>"
      ]
     },
     "metadata": {},
     "output_type": "display_data"
    }
   ],
   "source": [
    "fig, ax = plt.subplots(figsize=(9,5))\n",
    "__ = purch_struct_df.purchase_share.unstack(level=0).plot(kind='bar', ax = ax)\n",
    "__ = ax.set_xlabel(\"Тип подписки (месяц, квартал, год, пакет)\")\n",
    "__ = ax.set_ylabel(\"Доля в общем числе покупок\")\n"
   ]
  },
  {
   "cell_type": "markdown",
   "metadata": {},
   "source": [
    "Самые популярные подписки на месяц, а второе место в группе A принадлежит пакетам, а в группе B годовым подпискам (разрыв невелик).  Квартальные подписки — самые непопулярные в обоих группах."
   ]
  },
  {
   "cell_type": "markdown",
   "metadata": {},
   "source": [
    "Число покупок — хорошо, но полезно получить ещё долю данного вида подписки в суммарном доходе. Ввожу колонку `grot` — Gross Revenue of Type."
   ]
  },
  {
   "cell_type": "code",
   "execution_count": 18,
   "metadata": {},
   "outputs": [
    {
     "data": {
      "text/html": [
       "<div>\n",
       "<style scoped>\n",
       "    .dataframe tbody tr th:only-of-type {\n",
       "        vertical-align: middle;\n",
       "    }\n",
       "\n",
       "    .dataframe tbody tr th {\n",
       "        vertical-align: top;\n",
       "    }\n",
       "\n",
       "    .dataframe thead th {\n",
       "        text-align: right;\n",
       "    }\n",
       "</style>\n",
       "<table border=\"1\" class=\"dataframe\">\n",
       "  <thead>\n",
       "    <tr style=\"text-align: right;\">\n",
       "      <th></th>\n",
       "      <th></th>\n",
       "      <th>price</th>\n",
       "      <th>purchases</th>\n",
       "      <th>purchase_share</th>\n",
       "      <th>grot</th>\n",
       "      <th>grot_share</th>\n",
       "    </tr>\n",
       "    <tr>\n",
       "      <th>group</th>\n",
       "      <th>purch_type</th>\n",
       "      <th></th>\n",
       "      <th></th>\n",
       "      <th></th>\n",
       "      <th></th>\n",
       "      <th></th>\n",
       "    </tr>\n",
       "  </thead>\n",
       "  <tbody>\n",
       "    <tr>\n",
       "      <th rowspan=\"4\" valign=\"top\">A</th>\n",
       "      <th>month</th>\n",
       "      <td>350</td>\n",
       "      <td>2282</td>\n",
       "      <td>0.375021</td>\n",
       "      <td>798700</td>\n",
       "      <td>0.248352</td>\n",
       "    </tr>\n",
       "    <tr>\n",
       "      <th>package</th>\n",
       "      <td>50</td>\n",
       "      <td>1824</td>\n",
       "      <td>0.299753</td>\n",
       "      <td>91200</td>\n",
       "      <td>0.0283582</td>\n",
       "    </tr>\n",
       "    <tr>\n",
       "      <th>year</th>\n",
       "      <td>1500</td>\n",
       "      <td>1176</td>\n",
       "      <td>0.193262</td>\n",
       "      <td>1764000</td>\n",
       "      <td>0.548507</td>\n",
       "    </tr>\n",
       "    <tr>\n",
       "      <th>quarter</th>\n",
       "      <td>700</td>\n",
       "      <td>803</td>\n",
       "      <td>0.131964</td>\n",
       "      <td>562100</td>\n",
       "      <td>0.174782</td>\n",
       "    </tr>\n",
       "    <tr>\n",
       "      <th rowspan=\"4\" valign=\"top\">B</th>\n",
       "      <th>month</th>\n",
       "      <td>350</td>\n",
       "      <td>3639</td>\n",
       "      <td>0.399802</td>\n",
       "      <td>1273650</td>\n",
       "      <td>0.232361</td>\n",
       "    </tr>\n",
       "    <tr>\n",
       "      <th>year</th>\n",
       "      <td>1500</td>\n",
       "      <td>2319</td>\n",
       "      <td>0.254779</td>\n",
       "      <td>3478500</td>\n",
       "      <td>0.634606</td>\n",
       "    </tr>\n",
       "    <tr>\n",
       "      <th>package</th>\n",
       "      <td>50</td>\n",
       "      <td>2264</td>\n",
       "      <td>0.248737</td>\n",
       "      <td>113200</td>\n",
       "      <td>0.0206518</td>\n",
       "    </tr>\n",
       "    <tr>\n",
       "      <th>quarter</th>\n",
       "      <td>700</td>\n",
       "      <td>880</td>\n",
       "      <td>0.096682</td>\n",
       "      <td>616000</td>\n",
       "      <td>0.112381</td>\n",
       "    </tr>\n",
       "  </tbody>\n",
       "</table>\n",
       "</div>"
      ],
      "text/plain": [
       "                  price  purchases  purchase_share     grot grot_share\n",
       "group purch_type                                                      \n",
       "A     month         350       2282        0.375021   798700   0.248352\n",
       "      package        50       1824        0.299753    91200  0.0283582\n",
       "      year         1500       1176        0.193262  1764000   0.548507\n",
       "      quarter       700        803        0.131964   562100   0.174782\n",
       "B     month         350       3639        0.399802  1273650   0.232361\n",
       "      year         1500       2319        0.254779  3478500   0.634606\n",
       "      package        50       2264        0.248737   113200  0.0206518\n",
       "      quarter       700        880        0.096682   616000   0.112381"
      ]
     },
     "metadata": {},
     "output_type": "display_data"
    }
   ],
   "source": [
    "purch_struct_df['grot'] = purch_struct_df.price * purch_struct_df.purchases\n",
    "purch_struct_df['grot_share'] = None\n",
    "purch_struct_df.loc['A', 'grot_share'] = purch_struct_df.grot / purch_struct_df.loc['A', 'grot'].sum()\n",
    "purch_struct_df.loc['B', 'grot_share'] = purch_struct_df.grot / purch_struct_df.loc['B', 'grot'].sum()\n",
    "epsilon = 1e-14\n",
    "assert(abs(purch_struct_df.loc['A', 'grot_share'].sum() - 1.0) < epsilon)\n",
    "assert(abs(purch_struct_df.loc['B', 'grot_share'].sum() - 1.0) < epsilon)\n",
    "\n",
    "display(purch_struct_df)"
   ]
  },
  {
   "cell_type": "code",
   "execution_count": 19,
   "metadata": {},
   "outputs": [
    {
     "data": {
      "image/png": "[encoded data removed]",
      "text/plain": [
       "<Figure size 648x360 with 1 Axes>"
      ]
     },
     "metadata": {},
     "output_type": "display_data"
    }
   ],
   "source": [
    "fig, ax = plt.subplots(figsize=(9,5))\n",
    "__ = purch_struct_df.grot_share.unstack(level=0).plot(kind='bar', ax = ax)\n",
    "__ = ax.set_xlabel(\"Тип подписки (месяц, квартал, год, пакет)\")\n",
    "__ = ax.set_ylabel(\"Доля в общем «грязном» доходе\")"
   ]
  },
  {
   "cell_type": "markdown",
   "metadata": {},
   "source": [
    "На диаграмме видно, что доходы в группах от месячных и пакетных подписок близки, а в подписках на квартал и год имеются значительные расхождения: покупатели из группы B охотнее покупают годовые подписки, чем квартальные.  Учитывая, что на графике относительный показатель — доля в продажах, можно сказать, что в группе B по сравнению с A произошёл переток пользователей с кратковременных тарифных планов на годовой. Особенно это выражено для квартальных и годовых подписок."
   ]
  },
  {
   "cell_type": "markdown",
   "metadata": {},
   "source": [
    "| [К оглавлению](#contents) | [К началу раздела](#unit_economy)  |\n",
    "|:--------------------------|-----------------------------------:|"
   ]
  },
  {
   "cell_type": "markdown",
   "metadata": {},
   "source": [
    "#### Сводные данные по группам <a name='groups_ue_summary'/>"
   ]
  },
  {
   "cell_type": "markdown",
   "metadata": {},
   "source": [
    "В таблице ниже V обозначает посетителя (Visitor), U — пользователя (User), С — покупателя (Customer).\n",
    "\n",
    " Группа | Посетителей | Пользователей | Покупателей | Конверсия V→U,% | Конверсия V→C, % | AvP, руб. | ARPC, руб. | ARPU, руб.\n",
    "--------|:------------|:--------------|:------------|:-----------------|:------------------|:-------|:--------|:--------\n",
    "    A   | 101329 | 31439 | 5815 |       31.03     |  5.74             | 528.51 | 553.05  | 31.74\n",
    "    B   | 151843 | 41046 | 8797 |       27.03     |  5.79             | 602.21 | 623.09  | 36.10"
   ]
  },
  {
   "cell_type": "markdown",
   "metadata": {},
   "source": [
    "Любопытно, что более высокая конверсия посетителей группы А в пользователей была «отыграна» при конверсии в клиентов (Customer): сквозная конверсия групп мало отличается. "
   ]
  },
  {
   "cell_type": "markdown",
   "metadata": {},
   "source": [
    "| [К оглавлению](#contents) | [К началу раздела](#unit_economy)  |\n",
    "|:--------------------------|-----------------------------------:|"
   ]
  },
  {
   "cell_type": "markdown",
   "metadata": {},
   "source": [
    "## Расчёт статистической значимости полученных параметров <a name='statsign'>"
   ]
  },
  {
   "cell_type": "markdown",
   "metadata": {},
   "source": [
    "Статистическую значимость буду рассчитывать для параметров:\n",
    "\n",
    "1. [Сквозная конверсия (V→C)](#statsign_conv_vc)\n",
    "2. [ARPC](#statsign_arpc)\n",
    "\n",
    "Среди полученных в первой части эта пара параметров наименее зависимы друг от друга. Остальные производные."
   ]
  },
  {
   "cell_type": "markdown",
   "metadata": {},
   "source": [
    "### Расчёт статистической значимости для сквозной конверсии.  <a name='statsign_conv_vc'/>"
   ]
  },
  {
   "cell_type": "markdown",
   "metadata": {},
   "source": [
    "Расчитаю доверительные интервалы для обоих групп и p-value для конверсии группы B, принимая за базовую гипотезу то, что она не отличается от конверсии группы A.  За достаточно малое значение p-value приму 0.05 (то есть вероятность случайного получения такого отклонения должна быть ≤ 1/20), доверительные интервалы буду рассчитывать исходя из вероятности нахождения среднего по популяции в данном интервале в 99%.  При расчёте конверсии (так как это пропорция) принимаем за $Z_{крит}$ 2.576.\n",
    "\n",
    "Конверсия — это пропорция, для расчёта доверительных интервалов используется формула:\n",
    "\n",
    "$$\n",
    "p = \\hat{p} \\pm Z_{крит} \\times \\sqrt{ {\\hat{p}\\,(1-\\hat{p})\\strut} \\over {n} }\n",
    "$$\n",
    "\n",
    "То есть выборочное среднее плюс-минус $Z_{крит}$, умноженное на выборочную стандартную ошибку."
   ]
  },
  {
   "cell_type": "code",
   "execution_count": 20,
   "metadata": {},
   "outputs": [
    {
     "name": "stdout",
     "output_type": "stream",
     "text": [
      "Стандартные отклонения конверсии: A: 0.000731, B: 0.000600\n",
      "Доверительные интервалы 99%: \n",
      "A: 5.74% ± 0.188%,\n",
      "B: 5.79% ± 0.154%\n",
      "\n"
     ]
    }
   ],
   "source": [
    "Z_CRIT = 2.576  # 99% confidence interval\n",
    "# Стандартные отклонения\n",
    "a_sd = sqrt( (conversion_v_c['A'] * (1 - conversion_v_c['A'])) / ab_grps_cnt.loc['A', 'n_cookies'] )\n",
    "b_sd = sqrt( (conversion_v_c['B'] * (1 - conversion_v_c['B'])) / ab_grps_cnt.loc['B', 'n_cookies'] )\n",
    "print(f\"Стандартные отклонения конверсии: A: {a_sd:f}, B: {b_sd:f}\")\n",
    "print(\"\"\"Доверительные интервалы 99%: \n",
    "A: {0:.2%} ± {1:.3%},\n",
    "B: {2:.2%} ± {3:.3%}\n",
    "\"\"\".format(\n",
    "    conversion_v_c['A'], Z_CRIT * a_sd,\n",
    "    conversion_v_c['B'], Z_CRIT * b_sd\n",
    "))"
   ]
  },
  {
   "cell_type": "markdown",
   "metadata": {},
   "source": [
    "Доверительные интервалы **сильно пересекаются**.  Я бы уже тут признал расхождение\n",
    "статистически *не*значимым, но если просят расчитать p-value, то тоже не проблема:"
   ]
  },
  {
   "cell_type": "markdown",
   "metadata": {},
   "source": [
    "Для теста нужно для каждой группы создать массив нулей и единиц, где ноль соответствует посетителю, который \n",
    "в конечном итоге не стал покупателем, а единица — покупателю."
   ]
  },
  {
   "cell_type": "code",
   "execution_count": 21,
   "metadata": {},
   "outputs": [
    {
     "name": "stdout",
     "output_type": "stream",
     "text": [
      "Группа A: 5815 покупателей из 101329 посетителей.\n",
      "Группа B: 8797 покупателей из 151843 посетителей.\n",
      "Результаты Z-теста: Z-score: -0.579, p-value: 0.563\n"
     ]
    }
   ],
   "source": [
    "abt_ztest_data = abt_cookies_df.merge(reg_df, how='left', on='cookie_id').merge(purch_df, how='left', on='user_id').set_index('grp')\n",
    "# Небольшой хак: мы знаем, что int(False) = 0 и int(True) = 1\n",
    "abt_ztest_a = (abt_ztest_data.loc['A'].groupby('cookie_id').min()['purchase_id'].notnull().astype(int))\n",
    "abt_ztest_b = (abt_ztest_data.loc['B'].groupby('cookie_id').min()['purchase_id'].notnull().astype(int))\n",
    "print(f\"Группа A: {abt_ztest_a.sum()} покупателей из {len(abt_ztest_a)} посетителей.\")\n",
    "print(f\"Группа B: {abt_ztest_b.sum()} покупателей из {len(abt_ztest_b)} посетителей.\")\n",
    "zscore, pvalue = ztest(abt_ztest_a, abt_ztest_b)\n",
    "print(f\"Результаты Z-теста: Z-score: {zscore:.3f}, p-value: {pvalue:.3f}\")"
   ]
  },
  {
   "cell_type": "markdown",
   "metadata": {},
   "source": [
    "Результаты Z теста подтверждают, что статистически значимой разницы сквозных конверсий не обнаружено."
   ]
  },
  {
   "cell_type": "markdown",
   "metadata": {},
   "source": [
    "#### Вывод по расчёту значимости конверсии: \n",
    "\n",
    "значимых расхождений между группами не обнаружено."
   ]
  },
  {
   "cell_type": "markdown",
   "metadata": {},
   "source": [
    "| [К оглавлению](#contents) | [К началу раздела](#statsign)  |\n",
    "|:--------------------------|-------------------------------:|"
   ]
  },
  {
   "cell_type": "markdown",
   "metadata": {},
   "source": [
    "### Расчёт статистической значимости для ARPC <a name='statsign_arpc'/>"
   ]
  },
  {
   "cell_type": "markdown",
   "metadata": {},
   "source": [
    "ARPC — числовой параметр (не пропорция), поэтому для получения доверительного интервала в общем случае используется распределение Стьюдента.  Но у нас большая выборка (более 5800 клиентов в меньшей из групп), это позволяет нам пользоваться распределением Гаусса. Как и для конверсии, будем использовать 99% доверительный интервал, $Z_{крит}$ в этом случае 2.576 (Распределение Стьюдента даёт 2.577, можно пренебречь разницей в 4 знаке).\n",
    "\n",
    "#### Расчёт доверительных интервалов\n",
    "\n",
    "Замечу, что сам средний чек распределён не нормально: количество покупок на клиента незначительно превышает 1, поэтому параметр ARPC будет группироваться по цене подписки: будут группы, соответствующие ценам 350, 700, 1500, 50 руб. Но нас в расчёте статистической значимости интересует распределение выборочного среднего и популяционного среднего, по ЦПТ это распределение будет стремиться к нормальному.\n",
    "\n",
    "Формулы для расчёта:\n",
    "\n",
    "\\begin{equation}\n",
    "\\mu \\in \\bar{x} \\pm Z_{крит} \\times Se\n",
    "\\end{equation}\n",
    "Где $Se$ — выборочная стандартная ошибка: \n",
    "\n",
    "$$\n",
    "Se = \\frac{s}{\\sqrt{n}}.\n",
    "$$\n",
    "\n",
    "Где, в свою очередь, $n$ — число измерений и $s$ — среднеквадратическое отклонение на выборке,\n",
    "рассчитываемое по формуле:\n",
    "\n",
    "$$\n",
    "s =  \\sqrt{ \\frac{\\sum_{i=1}^{n}{(x_i - \\bar{x})^2}}{n-1} }\n",
    "$$\n",
    "\n",
    "Вооружившись этими формулами, можно рассчитать доверительные интервалы.  Но удобнее воспользоваться библиотечной функцией."
   ]
  },
  {
   "cell_type": "code",
   "execution_count": 22,
   "metadata": {},
   "outputs": [
    {
     "name": "stdout",
     "output_type": "stream",
     "text": [
      "Статистические параметры распределений среднего дохода на пользователя:\n",
      "Группа А:\n",
      "  Среднее (ARPC): 553.05\n",
      "  Стандартное отклонение (s): 515.76\n",
      "  Выборочная стандартная ошибка распределения ARPC (Se): 6.764\n",
      "Группа B:\n",
      "  Среднее: (ARPC) 623.09\n",
      "  Стандартное отклонение (s): 552.68\n",
      "  Выборочная стандартная ошибка ARPC (Se): 5.893\n",
      "\n"
     ]
    }
   ],
   "source": [
    "pre_amounts_1 = abt_ztest_data.loc[abt_ztest_data.purchase_id.notnull(),['user_id','amount']]\n",
    "amounts = pre_amounts_1.groupby(['grp', 'user_id'],as_index=True).sum()\n",
    "a_amounts = amounts.loc['A','amount']\n",
    "b_amounts = amounts.loc['B','amount']\n",
    "a_arpc_mean, b_arpc_mean = (a_amounts.mean(), b_amounts.mean())\n",
    "a_arpc_se, b_arpc_se = (spstats.sem(a_amounts), spstats.sem(b_amounts) )\n",
    "print(\"\"\"Статистические параметры распределений среднего дохода на пользователя:\n",
    "Группа А:\n",
    "  Среднее (ARPC): {0:.02f}\n",
    "  Стандартное отклонение (s): {1:.02f}\n",
    "  Выборочная стандартная ошибка распределения ARPC (Se): {2:.03f}\n",
    "Группа B:\n",
    "  Среднее: (ARPC) {3:.02f}\n",
    "  Стандартное отклонение (s): {4:.02f}\n",
    "  Выборочная стандартная ошибка ARPC (Se): {5:.03f}\n",
    "\"\"\".format(\n",
    "    a_arpc_mean, a_amounts.std(), a_arpc_se, # {0}-{2}\n",
    "    b_arpc_mean, b_amounts.std(), b_arpc_se, # {3}-{5}\n",
    "))\n",
    "del(pre_amounts_1)\n",
    "del(amounts)\n",
    "# del(a_amounts)\n",
    "# del(b_amounts)"
   ]
  },
  {
   "cell_type": "markdown",
   "metadata": {},
   "source": [
    "Обратите внимание, как из выборки с довольно большим стандартным отклонением $s$ получается распределение среднего с небольшим $Se$"
   ]
  },
  {
   "cell_type": "markdown",
   "metadata": {},
   "source": [
    "Зная стандартную ошибку распредения среднего платежа в группах, легко получить доверительные интервалы для ARPC: <a name='confidence_intervals_arpc'/>"
   ]
  },
  {
   "cell_type": "code",
   "execution_count": 25,
   "metadata": {},
   "outputs": [
    {
     "name": "stdout",
     "output_type": "stream",
     "text": [
      "Доверительные интервалы (99%) для ARPC:\n",
      "Группа А: от 535.63 до 570.48,\n",
      "Группа B: от 607.91 до 638.27\n",
      "\n"
     ]
    }
   ],
   "source": [
    "a_arpc_t = (a_arpc_mean - Z_CRIT * a_arpc_se, a_arpc_mean + Z_CRIT * a_arpc_se)\n",
    "b_arpc_t = (b_arpc_mean - Z_CRIT * b_arpc_se, b_arpc_mean + Z_CRIT * b_arpc_se)\n",
    "print(f\"\"\"Доверительные интервалы (99%) для ARPC:\n",
    "Группа А: от {a_arpc_t[0]:.2f} до {a_arpc_t[1]:.2f},\n",
    "Группа B: от {b_arpc_t[0]:.2f} до {b_arpc_t[1]:.2f}\n",
    "\"\"\")\n",
    "# .format(a_arpc_t, b_arpc_t))"
   ]
  },
  {
   "cell_type": "markdown",
   "metadata": {},
   "source": [
    "Как видим, доверительные интервалы не пересекаются, что позволяет говорить о статистической значимости различия между ARPC в группах A и B.  Проверим себя двумя различными тестами статистической значимости (p-value).  Напомню, что p-value — это вероятность того, что при случайной выборке из генеральной совокупности с распределением, как в группе A, получится выборка со средним B.\n",
    "\n",
    "Выбраны тесты Mann-Whitney и Kruskal-Wallis.  [Начальные условия тестов](https://machinelearningmastery.com/statistical-hypothesis-tests-in-python-cheat-sheet/) (обе группы распределены похоже и значения могут быть ранжированы) выполнены."
   ]
  },
  {
   "cell_type": "code",
   "execution_count": 24,
   "metadata": {},
   "outputs": [
    {
     "name": "stdout",
     "output_type": "stream",
     "text": [
      "p-value по тесту Mann-Whitney: 1.589e-11\n",
      "p-value по тесту Kruskal-Wallis: 3.179e-11\n"
     ]
    }
   ],
   "source": [
    "print(\"p-value по тесту Mann-Whitney: {:.3e}\".format(spstats.mannwhitneyu(a_amounts, b_amounts)[1]))\n",
    "print(\"p-value по тесту Kruskal-Wallis: {:.3e}\".format(spstats.kruskal(a_amounts, b_amounts)[1]))"
   ]
  },
  {
   "cell_type": "markdown",
   "metadata": {},
   "source": [
    "Оба теста дают очень маленькие p-value, что наряду с разницей в доверительных интервалах говорит о\n",
    "статистической значимости различий между группами в среднем доходе с клиента."
   ]
  },
  {
   "cell_type": "raw",
   "metadata": {},
   "source": [
    "# тут я хотел расчитать отдельно интервалы 95% для групп А и Б в долях при подписке на квартал и год и посмотреть,есть ли пересечения этих интервалов, но поленился."
   ]
  },
  {
   "cell_type": "markdown",
   "metadata": {},
   "source": [
    "| [К оглавлению](#contents) | [К началу раздела](#statsign)  |\n",
    "|:--------------------------|-------------------------------:|"
   ]
  },
  {
   "cell_type": "markdown",
   "metadata": {},
   "source": [
    "## Выводы по эксперименту <a name='closure'/>"
   ]
  },
  {
   "cell_type": "markdown",
   "metadata": {},
   "source": [
    "1. Поскольку предлагается не провести эксперимент, а *анатомировать* его результаты, то выводы с точки зрения бизнеса сделать затруднительно.\n",
    "\n",
    "2. Статистически значимых отличий в «Сквозной» конверсии из посетителей в клиентов между группами А и Б выявить не удалось.\n",
    "\n",
    "3. Выявлена [существенная и статистически значимая разница](confidence_intervals_arpc) в параметре ARPC (средний доход с клиента): в группе B этот параметр выше, чем в группе A.\n",
    "\n",
    "4. Предполагаю, что более высокий показатель ARPC в группе B  вызван повышением доли годовых подписок и снижением доли квартальных.  В этом случае общий доход с пользователей группы B на длинных интервалах _снизится_ по сравнению с группой А.  С другой стороны, пользователи с длинными контрактами более предсказуемы."
   ]
  },
  {
   "cell_type": "markdown",
   "metadata": {},
   "source": [
    "| [К оглавлению](#contents) |\n",
    "|---------------------------|"
   ]
  }
 ],
 "metadata": {
  "kernelspec": {
   "display_name": "Python 3",
   "language": "python",
   "name": "python3"
  },
  "language_info": {
   "codemirror_mode": {
    "name": "ipython",
    "version": 3
   },
   "file_extension": ".py",
   "mimetype": "text/x-python",
   "name": "python",
   "nbconvert_exporter": "python",
   "pygments_lexer": "ipython3",
   "version": "3.8.1"
  }
 },
 "nbformat": 4,
 "nbformat_minor": 2
}
